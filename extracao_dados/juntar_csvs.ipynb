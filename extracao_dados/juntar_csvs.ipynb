{
 "cells": [
  {
   "cell_type": "code",
   "execution_count": 2,
   "id": "32a158b0-dd41-44b4-bd14-e490dcfdb9dd",
   "metadata": {},
   "outputs": [],
   "source": [
    "import pandas as pd\n",
    "import os\n",
    "from pathlib import Path"
   ]
  },
  {
   "cell_type": "code",
   "execution_count": 4,
   "id": "31ea0f92-f76f-4651-9ce2-99b242b0145e",
   "metadata": {},
   "outputs": [],
   "source": [
    "# Caminho da pasta onde estão os CSVs\n",
    "pasta_csv = Path(\"./csv_paginas\")\n",
    "\n",
    "# Lista todos os arquivos CSV\n",
    "csvs = sorted(pasta_csv.glob(\"*.csv\"))"
   ]
  },
  {
   "cell_type": "code",
   "execution_count": 6,
   "id": "1f28b792-8460-464a-8bd1-63c20931f970",
   "metadata": {},
   "outputs": [],
   "source": [
    "# Lê e concatena todos os CSVs\n",
    "dfs = []\n",
    "for csv in csvs:\n",
    "    try:\n",
    "        df = pd.read_csv(csv, sep=',', encoding='utf-8')\n",
    "        dfs.append(df)\n",
    "    except Exception as e:\n",
    "        print(f\"Erro ao ler {csv.name}: {e}\")"
   ]
  },
  {
   "cell_type": "code",
   "execution_count": 7,
   "id": "edf01476-0071-490e-80a9-ce9edfc1d31f",
   "metadata": {},
   "outputs": [],
   "source": [
    "# Junta tudo em um único DataFrame\n",
    "df_total = pd.concat(dfs, ignore_index=True)"
   ]
  },
  {
   "cell_type": "code",
   "execution_count": 8,
   "id": "0d8915a3-f6d8-4352-a611-a314641d1573",
   "metadata": {},
   "outputs": [],
   "source": [
    "# Remove duplicatas\n",
    "df_total = df_total.drop_duplicates()"
   ]
  },
  {
   "cell_type": "code",
   "execution_count": 9,
   "id": "58f199ae-9360-42d0-9774-de7f516bba22",
   "metadata": {},
   "outputs": [
    {
     "data": {
      "text/plain": [
       "(49091, 17)"
      ]
     },
     "execution_count": 9,
     "metadata": {},
     "output_type": "execute_result"
    }
   ],
   "source": [
    "df_total.shape"
   ]
  },
  {
   "cell_type": "code",
   "execution_count": 10,
   "id": "a0b0cfea-45fe-45dc-9249-b93e202af038",
   "metadata": {},
   "outputs": [],
   "source": [
    "#df_total.to_csv(\"terceirizados_consolidados.csv\", index=False)"
   ]
  }
 ],
 "metadata": {
  "kernelspec": {
   "display_name": "Python 3 (ipykernel)",
   "language": "python",
   "name": "python3"
  },
  "language_info": {
   "codemirror_mode": {
    "name": "ipython",
    "version": 3
   },
   "file_extension": ".py",
   "mimetype": "text/x-python",
   "name": "python",
   "nbconvert_exporter": "python",
   "pygments_lexer": "ipython3",
   "version": "3.9.6"
  }
 },
 "nbformat": 4,
 "nbformat_minor": 5
}

{
 "cells": [
  {
   "cell_type": "code",
   "execution_count": 32,
   "id": "f0126734-8794-42fa-9077-16591ed7e14f",
   "metadata": {},
   "outputs": [],
   "source": [
    "import pandas as pd\n",
    "import seaborn as sns\n",
    "import matplotlib.pyplot as plt\n",
    "from pathlib import Path"
   ]
  },
  {
   "cell_type": "markdown",
   "id": "b4dca70f-3644-4ea7-8a26-45be2c7517e5",
   "metadata": {},
   "source": [
    "## Análise do histórico de terceirizados (2010 a 2024)"
   ]
  },
  {
   "cell_type": "markdown",
   "id": "f91e7f6c-8eef-428b-b45c-0f51ca686ac3",
   "metadata": {},
   "source": [
    "### Concatenar os arquivos de 2024 para um único dataframe"
   ]
  },
  {
   "cell_type": "code",
   "execution_count": 2,
   "id": "88e4aa77-d96a-4e6f-878c-e6ef568a2b4b",
   "metadata": {},
   "outputs": [],
   "source": [
    "# Caminho da pasta com os arquivos\n",
    "pasta_dados = Path(\"../data\")"
   ]
  },
  {
   "cell_type": "code",
   "execution_count": 3,
   "id": "1a9bd70f-5dad-425f-ad35-7394a0ae8012",
   "metadata": {},
   "outputs": [],
   "source": [
    "# Seleciona todos os arquivos que seguem o padrão terceirizados2024*.xlsx\n",
    "arquivos_2024 = sorted(pasta_dados.glob(\"terceirizados2024*.xlsx\"))"
   ]
  },
  {
   "cell_type": "code",
   "execution_count": 4,
   "id": "659e8abb-7529-4e70-9cdc-2f8b36d21317",
   "metadata": {},
   "outputs": [],
   "source": [
    "# Lê cada arquivo como string\n",
    "dfs_2024 = []\n",
    "for arquivo in arquivos_2024:\n",
    "    df = pd.read_excel(arquivo, dtype=str)\n",
    "    dfs_2024.append(df)"
   ]
  },
  {
   "cell_type": "code",
   "execution_count": 5,
   "id": "6db157bf-bcd3-4c8e-bf4b-dba65b143dcc",
   "metadata": {},
   "outputs": [],
   "source": [
    "# Concatena todos os dataframes\n",
    "df_2024 = pd.concat(dfs_2024, ignore_index=True)"
   ]
  },
  {
   "cell_type": "code",
   "execution_count": 6,
   "id": "73b27d9b-5890-4317-b9a7-7a1a53ca6ea1",
   "metadata": {},
   "outputs": [],
   "source": [
    "# Remover duplicatas\n",
    "df_2024 = df_2024.drop_duplicates()"
   ]
  },
  {
   "cell_type": "code",
   "execution_count": 7,
   "id": "3c46fc48-91a8-4d42-abc6-4bf155958c67",
   "metadata": {},
   "outputs": [
    {
     "data": {
      "text/plain": [
       "(233344, 23)"
      ]
     },
     "execution_count": 7,
     "metadata": {},
     "output_type": "execute_result"
    }
   ],
   "source": [
    "df_2024.shape"
   ]
  },
  {
   "cell_type": "markdown",
   "id": "bb81ef9e-7709-4598-987a-327e0aaeaf19",
   "metadata": {},
   "source": [
    "### Tratamento dos dados de 2010 a 2024"
   ]
  },
  {
   "cell_type": "code",
   "execution_count": 8,
   "id": "7313355d-ad37-42f4-9008-8a4832bd1da8",
   "metadata": {},
   "outputs": [],
   "source": [
    "df_historico = pd.read_csv(\"../../previsao_contratacao/data/historico_cgu/terceirizados-2010-2023.csv\", sep=\";\", dtype=str, low_memory=False)"
   ]
  },
  {
   "cell_type": "code",
   "execution_count": 9,
   "id": "4132d0e1-be71-4ea0-8488-f52c1f349943",
   "metadata": {},
   "outputs": [
    {
     "data": {
      "text/html": [
       "<div>\n",
       "<style scoped>\n",
       "    .dataframe tbody tr th:only-of-type {\n",
       "        vertical-align: middle;\n",
       "    }\n",
       "\n",
       "    .dataframe tbody tr th {\n",
       "        vertical-align: top;\n",
       "    }\n",
       "\n",
       "    .dataframe thead th {\n",
       "        text-align: right;\n",
       "    }\n",
       "</style>\n",
       "<table border=\"1\" class=\"dataframe\">\n",
       "  <thead>\n",
       "    <tr style=\"text-align: right;\">\n",
       "      <th></th>\n",
       "      <th>id_terc</th>\n",
       "      <th>sg_orgao_sup_tabela_ug</th>\n",
       "      <th>cd_ug_gestora</th>\n",
       "      <th>nm_ug_tabela_ug</th>\n",
       "      <th>sg_ug_gestora</th>\n",
       "      <th>nr_contrato</th>\n",
       "      <th>nr_cnpj</th>\n",
       "      <th>nm_razao_social</th>\n",
       "      <th>nr_cpf</th>\n",
       "      <th>nm_terceirizado</th>\n",
       "      <th>...</th>\n",
       "      <th>nm_unidade_prestacao</th>\n",
       "      <th>vl_mensal_salario</th>\n",
       "      <th>vl_mensal_custo</th>\n",
       "      <th>Num_Mes_Carga</th>\n",
       "      <th>Mes_Carga</th>\n",
       "      <th>Ano_Carga</th>\n",
       "      <th>sg_orgao</th>\n",
       "      <th>nm_orgao</th>\n",
       "      <th>cd_orgao_siafi</th>\n",
       "      <th>cd_orgao_siape</th>\n",
       "    </tr>\n",
       "  </thead>\n",
       "  <tbody>\n",
       "    <tr>\n",
       "      <th>0</th>\n",
       "      <td>1</td>\n",
       "      <td>MDA</td>\n",
       "      <td>490011</td>\n",
       "      <td>MINISTERIO DO DESENVOLVIMENTO AGRARIO – ADMINI...</td>\n",
       "      <td>MDA-ADM. DIRETA</td>\n",
       "      <td>68/2008</td>\n",
       "      <td>02633573000188</td>\n",
       "      <td>AJ SERVICOS LTDA</td>\n",
       "      <td>***.140.291-**</td>\n",
       "      <td>CAMILA FERNANDA ROCHA DE SOUSA</td>\n",
       "      <td>...</td>\n",
       "      <td>CONJUR</td>\n",
       "      <td>502.0</td>\n",
       "      <td>0.0</td>\n",
       "      <td>1</td>\n",
       "      <td>JANEIRO</td>\n",
       "      <td>2010</td>\n",
       "      <td>MDA</td>\n",
       "      <td>MINISTERIO DO DESENVOLVIMENTO AGRARIO</td>\n",
       "      <td>49000</td>\n",
       "      <td>42000</td>\n",
       "    </tr>\n",
       "    <tr>\n",
       "      <th>1</th>\n",
       "      <td>2</td>\n",
       "      <td>MDA</td>\n",
       "      <td>490011</td>\n",
       "      <td>MINISTERIO DO DESENVOLVIMENTO AGRARIO – ADMINI...</td>\n",
       "      <td>MDA-ADM. DIRETA</td>\n",
       "      <td>68/2008</td>\n",
       "      <td>02633573000188</td>\n",
       "      <td>AJ SERVICOS LTDA</td>\n",
       "      <td>***.338.161-**</td>\n",
       "      <td>DEILTON ALVES SANTANA</td>\n",
       "      <td>...</td>\n",
       "      <td>CONJUR</td>\n",
       "      <td>502.0</td>\n",
       "      <td>0.0</td>\n",
       "      <td>1</td>\n",
       "      <td>JANEIRO</td>\n",
       "      <td>2010</td>\n",
       "      <td>MDA</td>\n",
       "      <td>MINISTERIO DO DESENVOLVIMENTO AGRARIO</td>\n",
       "      <td>49000</td>\n",
       "      <td>42000</td>\n",
       "    </tr>\n",
       "    <tr>\n",
       "      <th>2</th>\n",
       "      <td>3</td>\n",
       "      <td>MDA</td>\n",
       "      <td>490011</td>\n",
       "      <td>MINISTERIO DO DESENVOLVIMENTO AGRARIO – ADMINI...</td>\n",
       "      <td>MDA-ADM. DIRETA</td>\n",
       "      <td>68/2008</td>\n",
       "      <td>02633573000188</td>\n",
       "      <td>AJ SERVICOS LTDA</td>\n",
       "      <td>***.532.161-**</td>\n",
       "      <td>GLEIDES MARIA DE SOUSA</td>\n",
       "      <td>...</td>\n",
       "      <td>SRA</td>\n",
       "      <td>940.0</td>\n",
       "      <td>0.0</td>\n",
       "      <td>1</td>\n",
       "      <td>JANEIRO</td>\n",
       "      <td>2010</td>\n",
       "      <td>MDA</td>\n",
       "      <td>MINISTERIO DO DESENVOLVIMENTO AGRARIO</td>\n",
       "      <td>49000</td>\n",
       "      <td>42000</td>\n",
       "    </tr>\n",
       "    <tr>\n",
       "      <th>3</th>\n",
       "      <td>4</td>\n",
       "      <td>MDA</td>\n",
       "      <td>490011</td>\n",
       "      <td>MINISTERIO DO DESENVOLVIMENTO AGRARIO – ADMINI...</td>\n",
       "      <td>MDA-ADM. DIRETA</td>\n",
       "      <td>68/2008</td>\n",
       "      <td>02633573000188</td>\n",
       "      <td>AJ SERVICOS LTDA</td>\n",
       "      <td>***.694.231-**</td>\n",
       "      <td>DINIS ALVES DE OLIVEIRA</td>\n",
       "      <td>...</td>\n",
       "      <td>SRA</td>\n",
       "      <td>940.0</td>\n",
       "      <td>0.0</td>\n",
       "      <td>1</td>\n",
       "      <td>JANEIRO</td>\n",
       "      <td>2010</td>\n",
       "      <td>MDA</td>\n",
       "      <td>MINISTERIO DO DESENVOLVIMENTO AGRARIO</td>\n",
       "      <td>49000</td>\n",
       "      <td>42000</td>\n",
       "    </tr>\n",
       "    <tr>\n",
       "      <th>4</th>\n",
       "      <td>5</td>\n",
       "      <td>MDA</td>\n",
       "      <td>490011</td>\n",
       "      <td>MINISTERIO DO DESENVOLVIMENTO AGRARIO – ADMINI...</td>\n",
       "      <td>MDA-ADM. DIRETA</td>\n",
       "      <td>68/2008</td>\n",
       "      <td>02633573000188</td>\n",
       "      <td>AJ SERVICOS LTDA</td>\n",
       "      <td>***.049.961-**</td>\n",
       "      <td>ELIETE DUARTE</td>\n",
       "      <td>...</td>\n",
       "      <td>SRA</td>\n",
       "      <td>940.0</td>\n",
       "      <td>0.0</td>\n",
       "      <td>1</td>\n",
       "      <td>JANEIRO</td>\n",
       "      <td>2010</td>\n",
       "      <td>MDA</td>\n",
       "      <td>MINISTERIO DO DESENVOLVIMENTO AGRARIO</td>\n",
       "      <td>49000</td>\n",
       "      <td>42000</td>\n",
       "    </tr>\n",
       "  </tbody>\n",
       "</table>\n",
       "<p>5 rows × 23 columns</p>\n",
       "</div>"
      ],
      "text/plain": [
       "  id_terc sg_orgao_sup_tabela_ug cd_ug_gestora  \\\n",
       "0       1                    MDA        490011   \n",
       "1       2                    MDA        490011   \n",
       "2       3                    MDA        490011   \n",
       "3       4                    MDA        490011   \n",
       "4       5                    MDA        490011   \n",
       "\n",
       "                                     nm_ug_tabela_ug    sg_ug_gestora  \\\n",
       "0  MINISTERIO DO DESENVOLVIMENTO AGRARIO – ADMINI...  MDA-ADM. DIRETA   \n",
       "1  MINISTERIO DO DESENVOLVIMENTO AGRARIO – ADMINI...  MDA-ADM. DIRETA   \n",
       "2  MINISTERIO DO DESENVOLVIMENTO AGRARIO – ADMINI...  MDA-ADM. DIRETA   \n",
       "3  MINISTERIO DO DESENVOLVIMENTO AGRARIO – ADMINI...  MDA-ADM. DIRETA   \n",
       "4  MINISTERIO DO DESENVOLVIMENTO AGRARIO – ADMINI...  MDA-ADM. DIRETA   \n",
       "\n",
       "  nr_contrato         nr_cnpj   nm_razao_social          nr_cpf  \\\n",
       "0     68/2008  02633573000188  AJ SERVICOS LTDA  ***.140.291-**   \n",
       "1     68/2008  02633573000188  AJ SERVICOS LTDA  ***.338.161-**   \n",
       "2     68/2008  02633573000188  AJ SERVICOS LTDA  ***.532.161-**   \n",
       "3     68/2008  02633573000188  AJ SERVICOS LTDA  ***.694.231-**   \n",
       "4     68/2008  02633573000188  AJ SERVICOS LTDA  ***.049.961-**   \n",
       "\n",
       "                  nm_terceirizado  ... nm_unidade_prestacao vl_mensal_salario  \\\n",
       "0  CAMILA FERNANDA ROCHA DE SOUSA  ...               CONJUR             502.0   \n",
       "1           DEILTON ALVES SANTANA  ...               CONJUR             502.0   \n",
       "2          GLEIDES MARIA DE SOUSA  ...                  SRA             940.0   \n",
       "3         DINIS ALVES DE OLIVEIRA  ...                  SRA             940.0   \n",
       "4                   ELIETE DUARTE  ...                  SRA             940.0   \n",
       "\n",
       "  vl_mensal_custo Num_Mes_Carga Mes_Carga Ano_Carga sg_orgao  \\\n",
       "0             0.0             1   JANEIRO      2010      MDA   \n",
       "1             0.0             1   JANEIRO      2010      MDA   \n",
       "2             0.0             1   JANEIRO      2010      MDA   \n",
       "3             0.0             1   JANEIRO      2010      MDA   \n",
       "4             0.0             1   JANEIRO      2010      MDA   \n",
       "\n",
       "                                nm_orgao cd_orgao_siafi cd_orgao_siape  \n",
       "0  MINISTERIO DO DESENVOLVIMENTO AGRARIO          49000          42000  \n",
       "1  MINISTERIO DO DESENVOLVIMENTO AGRARIO          49000          42000  \n",
       "2  MINISTERIO DO DESENVOLVIMENTO AGRARIO          49000          42000  \n",
       "3  MINISTERIO DO DESENVOLVIMENTO AGRARIO          49000          42000  \n",
       "4  MINISTERIO DO DESENVOLVIMENTO AGRARIO          49000          42000  \n",
       "\n",
       "[5 rows x 23 columns]"
      ]
     },
     "execution_count": 9,
     "metadata": {},
     "output_type": "execute_result"
    }
   ],
   "source": [
    "df_historico.head()"
   ]
  },
  {
   "cell_type": "code",
   "execution_count": 10,
   "id": "a16f4fc2-d86c-4356-9fe5-aee316da1359",
   "metadata": {},
   "outputs": [
    {
     "data": {
      "text/plain": [
       "Index(['id_terc', 'sg_orgao_sup_tabela_ug', 'cd_ug_gestora', 'nm_ug_tabela_ug',\n",
       "       'sg_ug_gestora', 'nr_contrato', 'nr_cnpj', 'nm_razao_social', 'nr_cpf',\n",
       "       'nm_terceirizado', 'nm_categoria_profissional', 'nm_escolaridade',\n",
       "       'nr_jornada', 'nm_unidade_prestacao', 'vl_mensal_salario',\n",
       "       'vl_mensal_custo', 'Num_Mes_Carga', 'Mes_Carga', 'Ano_Carga',\n",
       "       'sg_orgao', 'nm_orgao', 'cd_orgao_siafi', 'cd_orgao_siape'],\n",
       "      dtype='object')"
      ]
     },
     "execution_count": 10,
     "metadata": {},
     "output_type": "execute_result"
    }
   ],
   "source": [
    "df_historico.columns"
   ]
  },
  {
   "cell_type": "code",
   "execution_count": 11,
   "id": "ceaf846d-0f16-4fff-99b3-8c3e3b57ada6",
   "metadata": {},
   "outputs": [
    {
     "name": "stdout",
     "output_type": "stream",
     "text": [
      "<class 'pandas.core.frame.DataFrame'>\n",
      "RangeIndex: 1890255 entries, 0 to 1890254\n",
      "Data columns (total 23 columns):\n",
      " #   Column                     Dtype \n",
      "---  ------                     ----- \n",
      " 0   id_terc                    object\n",
      " 1   sg_orgao_sup_tabela_ug     object\n",
      " 2   cd_ug_gestora              object\n",
      " 3   nm_ug_tabela_ug            object\n",
      " 4   sg_ug_gestora              object\n",
      " 5   nr_contrato                object\n",
      " 6   nr_cnpj                    object\n",
      " 7   nm_razao_social            object\n",
      " 8   nr_cpf                     object\n",
      " 9   nm_terceirizado            object\n",
      " 10  nm_categoria_profissional  object\n",
      " 11  nm_escolaridade            object\n",
      " 12  nr_jornada                 object\n",
      " 13  nm_unidade_prestacao       object\n",
      " 14  vl_mensal_salario          object\n",
      " 15  vl_mensal_custo            object\n",
      " 16  Num_Mes_Carga              object\n",
      " 17  Mes_Carga                  object\n",
      " 18  Ano_Carga                  object\n",
      " 19  sg_orgao                   object\n",
      " 20  nm_orgao                   object\n",
      " 21  cd_orgao_siafi             object\n",
      " 22  cd_orgao_siape             object\n",
      "dtypes: object(23)\n",
      "memory usage: 331.7+ MB\n"
     ]
    }
   ],
   "source": [
    "df_historico.info()"
   ]
  },
  {
   "cell_type": "markdown",
   "id": "573ab7f7-3bb4-4fc3-a78c-d0e07adbd63e",
   "metadata": {},
   "source": [
    "#### Adicionar os dados de 2024 ao df_historico"
   ]
  },
  {
   "cell_type": "code",
   "execution_count": 12,
   "id": "b1fa4249-b1bb-4fb5-97a3-231280660c28",
   "metadata": {},
   "outputs": [
    {
     "data": {
      "text/html": [
       "<div>\n",
       "<style scoped>\n",
       "    .dataframe tbody tr th:only-of-type {\n",
       "        vertical-align: middle;\n",
       "    }\n",
       "\n",
       "    .dataframe tbody tr th {\n",
       "        vertical-align: top;\n",
       "    }\n",
       "\n",
       "    .dataframe thead th {\n",
       "        text-align: right;\n",
       "    }\n",
       "</style>\n",
       "<table border=\"1\" class=\"dataframe\">\n",
       "  <thead>\n",
       "    <tr style=\"text-align: right;\">\n",
       "      <th></th>\n",
       "      <th>id_terc</th>\n",
       "      <th>sg_orgao_sup_tabela_ug</th>\n",
       "      <th>cd_ug_gestora</th>\n",
       "      <th>nm_ug_tabela_ug</th>\n",
       "      <th>sg_ug_gestora</th>\n",
       "      <th>nr_contrato</th>\n",
       "      <th>nr_cnpj</th>\n",
       "      <th>nm_razao_social</th>\n",
       "      <th>nr_cpf</th>\n",
       "      <th>nm_terceirizado</th>\n",
       "      <th>...</th>\n",
       "      <th>nm_unidade_prestacao</th>\n",
       "      <th>vl_mensal_salario</th>\n",
       "      <th>vl_mensal_custo</th>\n",
       "      <th>Num_Mes_Carga</th>\n",
       "      <th>Mes_Carga</th>\n",
       "      <th>Ano_Carga</th>\n",
       "      <th>sg_orgao</th>\n",
       "      <th>nm_orgao</th>\n",
       "      <th>cd_orgao_siafi</th>\n",
       "      <th>cd_orgao_siape</th>\n",
       "    </tr>\n",
       "  </thead>\n",
       "  <tbody>\n",
       "    <tr>\n",
       "      <th>0</th>\n",
       "      <td>8679421</td>\n",
       "      <td>MAPA</td>\n",
       "      <td>130005</td>\n",
       "      <td>COORDENACAO GERAL DE LOGISTICA INSTITUCIONAL</td>\n",
       "      <td>CGOEF/DA/SE/MAPA</td>\n",
       "      <td>2023-10-01 00:00:00</td>\n",
       "      <td>3325436000149</td>\n",
       "      <td>ADTEL FACILITIES LTDA</td>\n",
       "      <td>***.608.651-**</td>\n",
       "      <td>ALEXANDRO FABRICIO GOMES</td>\n",
       "      <td>...</td>\n",
       "      <td>CGLI</td>\n",
       "      <td>2238</td>\n",
       "      <td>5646</td>\n",
       "      <td>1</td>\n",
       "      <td>JANEIRO</td>\n",
       "      <td>2024</td>\n",
       "      <td>MIN.AGRICULTURA</td>\n",
       "      <td>MINIST. DA AGRICUL.,PECUARIA E ABASTECIMENTO</td>\n",
       "      <td>22000</td>\n",
       "      <td>13000</td>\n",
       "    </tr>\n",
       "    <tr>\n",
       "      <th>1</th>\n",
       "      <td>8679422</td>\n",
       "      <td>MAPA</td>\n",
       "      <td>130005</td>\n",
       "      <td>COORDENACAO GERAL DE LOGISTICA INSTITUCIONAL</td>\n",
       "      <td>CGOEF/DA/SE/MAPA</td>\n",
       "      <td>2023-10-01 00:00:00</td>\n",
       "      <td>3325436000149</td>\n",
       "      <td>ADTEL FACILITIES LTDA</td>\n",
       "      <td>***.831.631-**</td>\n",
       "      <td>ADIELSON LOPES DE MELO</td>\n",
       "      <td>...</td>\n",
       "      <td>CGLI</td>\n",
       "      <td>1516</td>\n",
       "      <td>4536</td>\n",
       "      <td>1</td>\n",
       "      <td>JANEIRO</td>\n",
       "      <td>2024</td>\n",
       "      <td>MIN.AGRICULTURA</td>\n",
       "      <td>MINIST. DA AGRICUL.,PECUARIA E ABASTECIMENTO</td>\n",
       "      <td>22000</td>\n",
       "      <td>13000</td>\n",
       "    </tr>\n",
       "    <tr>\n",
       "      <th>2</th>\n",
       "      <td>8679423</td>\n",
       "      <td>MAPA</td>\n",
       "      <td>130005</td>\n",
       "      <td>COORDENACAO GERAL DE LOGISTICA INSTITUCIONAL</td>\n",
       "      <td>CGOEF/DA/SE/MAPA</td>\n",
       "      <td>2023-10-01 00:00:00</td>\n",
       "      <td>6926324000131</td>\n",
       "      <td>ADTEL FACILITIES LTDA</td>\n",
       "      <td>***.316.751-**</td>\n",
       "      <td>THIAGO ROCHA OLIVEIRA</td>\n",
       "      <td>...</td>\n",
       "      <td>CGLI</td>\n",
       "      <td>1516</td>\n",
       "      <td>4536</td>\n",
       "      <td>1</td>\n",
       "      <td>JANEIRO</td>\n",
       "      <td>2024</td>\n",
       "      <td>MIN.AGRICULTURA</td>\n",
       "      <td>MINIST. DA AGRICUL.,PECUARIA E ABASTECIMENTO</td>\n",
       "      <td>22000</td>\n",
       "      <td>13000</td>\n",
       "    </tr>\n",
       "    <tr>\n",
       "      <th>3</th>\n",
       "      <td>8679424</td>\n",
       "      <td>MAPA</td>\n",
       "      <td>130005</td>\n",
       "      <td>COORDENACAO GERAL DE LOGISTICA INSTITUCIONAL</td>\n",
       "      <td>CGOEF/DA/SE/MAPA</td>\n",
       "      <td>2023-10-01 00:00:00</td>\n",
       "      <td>6926324000131</td>\n",
       "      <td>ADTEL FACILITIES LTDA</td>\n",
       "      <td>***.957.551-**</td>\n",
       "      <td>MARIO CARDOSO DIAS</td>\n",
       "      <td>...</td>\n",
       "      <td>CGLI</td>\n",
       "      <td>1516</td>\n",
       "      <td>4536</td>\n",
       "      <td>1</td>\n",
       "      <td>JANEIRO</td>\n",
       "      <td>2024</td>\n",
       "      <td>MIN.AGRICULTURA</td>\n",
       "      <td>MINIST. DA AGRICUL.,PECUARIA E ABASTECIMENTO</td>\n",
       "      <td>22000</td>\n",
       "      <td>13000</td>\n",
       "    </tr>\n",
       "    <tr>\n",
       "      <th>4</th>\n",
       "      <td>8679425</td>\n",
       "      <td>MAPA</td>\n",
       "      <td>130005</td>\n",
       "      <td>COORDENACAO GERAL DE LOGISTICA INSTITUCIONAL</td>\n",
       "      <td>CGOEF/DA/SE/MAPA</td>\n",
       "      <td>2023-10-01 00:00:00</td>\n",
       "      <td>6926324000131</td>\n",
       "      <td>ADTEL FACILITIES LTDA</td>\n",
       "      <td>***.458.031-**</td>\n",
       "      <td>CLEISON FARIAS VIEIRA</td>\n",
       "      <td>...</td>\n",
       "      <td>CGLI</td>\n",
       "      <td>7623</td>\n",
       "      <td>10695</td>\n",
       "      <td>1</td>\n",
       "      <td>JANEIRO</td>\n",
       "      <td>2024</td>\n",
       "      <td>MIN.AGRICULTURA</td>\n",
       "      <td>MINIST. DA AGRICUL.,PECUARIA E ABASTECIMENTO</td>\n",
       "      <td>22000</td>\n",
       "      <td>13000</td>\n",
       "    </tr>\n",
       "  </tbody>\n",
       "</table>\n",
       "<p>5 rows × 23 columns</p>\n",
       "</div>"
      ],
      "text/plain": [
       "   id_terc sg_orgao_sup_tabela_ug cd_ug_gestora  \\\n",
       "0  8679421                   MAPA        130005   \n",
       "1  8679422                   MAPA        130005   \n",
       "2  8679423                   MAPA        130005   \n",
       "3  8679424                   MAPA        130005   \n",
       "4  8679425                   MAPA        130005   \n",
       "\n",
       "                                nm_ug_tabela_ug     sg_ug_gestora  \\\n",
       "0  COORDENACAO GERAL DE LOGISTICA INSTITUCIONAL  CGOEF/DA/SE/MAPA   \n",
       "1  COORDENACAO GERAL DE LOGISTICA INSTITUCIONAL  CGOEF/DA/SE/MAPA   \n",
       "2  COORDENACAO GERAL DE LOGISTICA INSTITUCIONAL  CGOEF/DA/SE/MAPA   \n",
       "3  COORDENACAO GERAL DE LOGISTICA INSTITUCIONAL  CGOEF/DA/SE/MAPA   \n",
       "4  COORDENACAO GERAL DE LOGISTICA INSTITUCIONAL  CGOEF/DA/SE/MAPA   \n",
       "\n",
       "           nr_contrato        nr_cnpj        nm_razao_social          nr_cpf  \\\n",
       "0  2023-10-01 00:00:00  3325436000149  ADTEL FACILITIES LTDA  ***.608.651-**   \n",
       "1  2023-10-01 00:00:00  3325436000149  ADTEL FACILITIES LTDA  ***.831.631-**   \n",
       "2  2023-10-01 00:00:00  6926324000131  ADTEL FACILITIES LTDA  ***.316.751-**   \n",
       "3  2023-10-01 00:00:00  6926324000131  ADTEL FACILITIES LTDA  ***.957.551-**   \n",
       "4  2023-10-01 00:00:00  6926324000131  ADTEL FACILITIES LTDA  ***.458.031-**   \n",
       "\n",
       "            nm_terceirizado  ... nm_unidade_prestacao vl_mensal_salario  \\\n",
       "0  ALEXANDRO FABRICIO GOMES  ...                 CGLI              2238   \n",
       "1    ADIELSON LOPES DE MELO  ...                 CGLI              1516   \n",
       "2     THIAGO ROCHA OLIVEIRA  ...                 CGLI              1516   \n",
       "3        MARIO CARDOSO DIAS  ...                 CGLI              1516   \n",
       "4     CLEISON FARIAS VIEIRA  ...                 CGLI              7623   \n",
       "\n",
       "  vl_mensal_custo Num_Mes_Carga Mes_Carga Ano_Carga         sg_orgao  \\\n",
       "0            5646             1   JANEIRO      2024  MIN.AGRICULTURA   \n",
       "1            4536             1   JANEIRO      2024  MIN.AGRICULTURA   \n",
       "2            4536             1   JANEIRO      2024  MIN.AGRICULTURA   \n",
       "3            4536             1   JANEIRO      2024  MIN.AGRICULTURA   \n",
       "4           10695             1   JANEIRO      2024  MIN.AGRICULTURA   \n",
       "\n",
       "                                       nm_orgao cd_orgao_siafi cd_orgao_siape  \n",
       "0  MINIST. DA AGRICUL.,PECUARIA E ABASTECIMENTO          22000          13000  \n",
       "1  MINIST. DA AGRICUL.,PECUARIA E ABASTECIMENTO          22000          13000  \n",
       "2  MINIST. DA AGRICUL.,PECUARIA E ABASTECIMENTO          22000          13000  \n",
       "3  MINIST. DA AGRICUL.,PECUARIA E ABASTECIMENTO          22000          13000  \n",
       "4  MINIST. DA AGRICUL.,PECUARIA E ABASTECIMENTO          22000          13000  \n",
       "\n",
       "[5 rows x 23 columns]"
      ]
     },
     "execution_count": 12,
     "metadata": {},
     "output_type": "execute_result"
    }
   ],
   "source": [
    "df_2024.head()"
   ]
  },
  {
   "cell_type": "code",
   "execution_count": 13,
   "id": "8a48bb71-5904-41e6-8ab7-fe8e5a7fdc52",
   "metadata": {},
   "outputs": [
    {
     "name": "stdout",
     "output_type": "stream",
     "text": [
      "<class 'pandas.core.frame.DataFrame'>\n",
      "Int64Index: 233344 entries, 0 to 233343\n",
      "Data columns (total 23 columns):\n",
      " #   Column                     Non-Null Count   Dtype \n",
      "---  ------                     --------------   ----- \n",
      " 0   id_terc                    233344 non-null  object\n",
      " 1   sg_orgao_sup_tabela_ug     233344 non-null  object\n",
      " 2   cd_ug_gestora              233344 non-null  object\n",
      " 3   nm_ug_tabela_ug            233344 non-null  object\n",
      " 4   sg_ug_gestora              226944 non-null  object\n",
      " 5   nr_contrato                233159 non-null  object\n",
      " 6   nr_cnpj                    233344 non-null  object\n",
      " 7   nm_razao_social            233344 non-null  object\n",
      " 8   nr_cpf                     233344 non-null  object\n",
      " 9   nm_terceirizado            233335 non-null  object\n",
      " 10  nm_categoria_profissional  232035 non-null  object\n",
      " 11  nm_escolaridade            233344 non-null  object\n",
      " 12  nr_jornada                 233344 non-null  object\n",
      " 13  nm_unidade_prestacao       233197 non-null  object\n",
      " 14  vl_mensal_salario          233344 non-null  object\n",
      " 15  vl_mensal_custo            233344 non-null  object\n",
      " 16  Num_Mes_Carga              233344 non-null  object\n",
      " 17  Mes_Carga                  233344 non-null  object\n",
      " 18  Ano_Carga                  233344 non-null  object\n",
      " 19  sg_orgao                   233344 non-null  object\n",
      " 20  nm_orgao                   233344 non-null  object\n",
      " 21  cd_orgao_siafi             233344 non-null  object\n",
      " 22  cd_orgao_siape             233344 non-null  object\n",
      "dtypes: object(23)\n",
      "memory usage: 42.7+ MB\n"
     ]
    }
   ],
   "source": [
    "df_2024.info()"
   ]
  },
  {
   "cell_type": "code",
   "execution_count": 14,
   "id": "caa47dcc-ace5-45f4-9c5e-f909043ef52c",
   "metadata": {},
   "outputs": [],
   "source": [
    "df_historico_atualizado = pd.concat([df_historico, df_2024], ignore_index=True)"
   ]
  },
  {
   "cell_type": "code",
   "execution_count": 16,
   "id": "bab56f9d-4a76-4c01-add7-9bdcf7406b70",
   "metadata": {},
   "outputs": [],
   "source": [
    "df_historico_atualizado = df_historico_atualizado.drop_duplicates()"
   ]
  },
  {
   "cell_type": "code",
   "execution_count": 17,
   "id": "5f538bc0-c712-4079-b055-36c84d9058d2",
   "metadata": {},
   "outputs": [
    {
     "data": {
      "text/plain": [
       "(2123599, 23)"
      ]
     },
     "execution_count": 17,
     "metadata": {},
     "output_type": "execute_result"
    }
   ],
   "source": [
    "df_historico_atualizado.shape"
   ]
  },
  {
   "cell_type": "markdown",
   "id": "28023cd8-0ea8-4bda-8190-1e40bf497e2b",
   "metadata": {},
   "source": [
    "#### Verificar os valores nulos"
   ]
  },
  {
   "cell_type": "code",
   "execution_count": 18,
   "id": "0463e00c-6da5-49aa-bdb8-fc5c9b119340",
   "metadata": {},
   "outputs": [
    {
     "data": {
      "text/plain": [
       "id_terc                          0\n",
       "sg_orgao_sup_tabela_ug           0\n",
       "cd_ug_gestora                    0\n",
       "nm_ug_tabela_ug                  0\n",
       "sg_ug_gestora                 9654\n",
       "nr_contrato                   1604\n",
       "nr_cnpj                       5304\n",
       "nm_razao_social                146\n",
       "nr_cpf                           0\n",
       "nm_terceirizado                 49\n",
       "nm_categoria_profissional     9450\n",
       "nm_escolaridade                  0\n",
       "nr_jornada                       1\n",
       "nm_unidade_prestacao         57351\n",
       "vl_mensal_salario               82\n",
       "vl_mensal_custo                538\n",
       "Num_Mes_Carga                    1\n",
       "Mes_Carga                        1\n",
       "Ano_Carga                        1\n",
       "sg_orgao                      1551\n",
       "nm_orgao                      1551\n",
       "cd_orgao_siafi                2543\n",
       "cd_orgao_siape                1551\n",
       "dtype: int64"
      ]
     },
     "execution_count": 18,
     "metadata": {},
     "output_type": "execute_result"
    }
   ],
   "source": [
    "df_historico_atualizado.isna().sum()"
   ]
  },
  {
   "cell_type": "markdown",
   "id": "c420f2cb-60cb-4d5e-8d0c-e161aa9d153a",
   "metadata": {},
   "source": [
    "Para manter um padrão nas análises, vamos retirar os nulos de colunas que nos interessam, como: nr_cnpj e nm_categoria_profissional. Vamos retirar primeiro os nulos de nm_categoria_profissional e verificar os nulos nas outras colunas, verificar se é interessante retirar (ou se ainda tem nulos) e assim sucessivamente. Temos mais 2kk de linhas, então retirar 9450 de nm_categoria_profissional não irá impactar na análise."
   ]
  },
  {
   "cell_type": "code",
   "execution_count": 19,
   "id": "dfd75eaf-9fb8-4423-8b8a-5b50e522dfcd",
   "metadata": {},
   "outputs": [],
   "source": [
    "df_historico_atualizado = df_historico_atualizado.dropna(subset=['nm_categoria_profissional'])"
   ]
  },
  {
   "cell_type": "code",
   "execution_count": 20,
   "id": "3bf098a3-9715-4e44-88bf-418ac38208a7",
   "metadata": {},
   "outputs": [
    {
     "data": {
      "text/plain": [
       "id_terc                          0\n",
       "sg_orgao_sup_tabela_ug           0\n",
       "cd_ug_gestora                    0\n",
       "nm_ug_tabela_ug                  0\n",
       "sg_ug_gestora                 9654\n",
       "nr_contrato                   1604\n",
       "nr_cnpj                       5304\n",
       "nm_razao_social                146\n",
       "nr_cpf                           0\n",
       "nm_terceirizado                 49\n",
       "nm_categoria_profissional        0\n",
       "nm_escolaridade                  0\n",
       "nr_jornada                       1\n",
       "nm_unidade_prestacao         57340\n",
       "vl_mensal_salario               82\n",
       "vl_mensal_custo                538\n",
       "Num_Mes_Carga                    1\n",
       "Mes_Carga                        1\n",
       "Ano_Carga                        1\n",
       "sg_orgao                      1551\n",
       "nm_orgao                      1551\n",
       "cd_orgao_siafi                2543\n",
       "cd_orgao_siape                1551\n",
       "dtype: int64"
      ]
     },
     "execution_count": 20,
     "metadata": {},
     "output_type": "execute_result"
    }
   ],
   "source": [
    "df_historico_atualizado.isna().sum()"
   ]
  },
  {
   "cell_type": "markdown",
   "id": "7a4f37b4-7e0a-4862-b23a-49a7d07438e9",
   "metadata": {},
   "source": [
    "A coluna nr_cnpj possui valores nulos e é uma coluna importante para análise, por isso vamos retirar os nulos dessa linha também."
   ]
  },
  {
   "cell_type": "code",
   "execution_count": 21,
   "id": "479933c7-bc7c-41a6-8677-0d2afd40d421",
   "metadata": {},
   "outputs": [],
   "source": [
    "df_historico_atualizado = df_historico_atualizado.dropna(subset=['nr_cnpj'])"
   ]
  },
  {
   "cell_type": "code",
   "execution_count": 22,
   "id": "7da8bc80-2544-4fa0-aef1-b64acaf651d3",
   "metadata": {},
   "outputs": [
    {
     "data": {
      "text/plain": [
       "id_terc                          0\n",
       "sg_orgao_sup_tabela_ug           0\n",
       "cd_ug_gestora                    0\n",
       "nm_ug_tabela_ug                  0\n",
       "sg_ug_gestora                 9593\n",
       "nr_contrato                   1604\n",
       "nr_cnpj                          0\n",
       "nm_razao_social                  0\n",
       "nr_cpf                           0\n",
       "nm_terceirizado                 49\n",
       "nm_categoria_profissional        0\n",
       "nm_escolaridade                  0\n",
       "nr_jornada                       1\n",
       "nm_unidade_prestacao         55852\n",
       "vl_mensal_salario               80\n",
       "vl_mensal_custo                536\n",
       "Num_Mes_Carga                    1\n",
       "Mes_Carga                        1\n",
       "Ano_Carga                        1\n",
       "sg_orgao                      1491\n",
       "nm_orgao                      1491\n",
       "cd_orgao_siafi                2483\n",
       "cd_orgao_siape                1491\n",
       "dtype: int64"
      ]
     },
     "execution_count": 22,
     "metadata": {},
     "output_type": "execute_result"
    }
   ],
   "source": [
    "df_historico_atualizado.isna().sum()"
   ]
  },
  {
   "cell_type": "markdown",
   "id": "fee98ca2-e238-426b-9780-53511c518273",
   "metadata": {},
   "source": [
    "Há outras três colunas importantes para as análises: vl_mensal_salario, vl_mensal_custo e Ano_Carga. As duas primeiras vão nos permitir identificar padrões salariais de cada categoria profissional e também o custo de cada posto par as empresas. No caso de Ano_Carga será importante para identificar padrões ao longo dos anos. Por isso será importante retirar os nulos que aparecem nessas colunas."
   ]
  },
  {
   "cell_type": "code",
   "execution_count": 24,
   "id": "c026fed4-b95d-4e21-ae0a-8d539ba15258",
   "metadata": {},
   "outputs": [],
   "source": [
    "df_historico_atualizado = df_historico_atualizado.dropna(subset=['vl_mensal_salario', 'vl_mensal_custo', 'Ano_Carga'])"
   ]
  },
  {
   "cell_type": "code",
   "execution_count": 25,
   "id": "79727e0e-52fe-48ea-808a-2fd520b47b73",
   "metadata": {},
   "outputs": [
    {
     "data": {
      "text/plain": [
       "id_terc                          0\n",
       "sg_orgao_sup_tabela_ug           0\n",
       "cd_ug_gestora                    0\n",
       "nm_ug_tabela_ug                  0\n",
       "sg_ug_gestora                 9573\n",
       "nr_contrato                   1604\n",
       "nr_cnpj                          0\n",
       "nm_razao_social                  0\n",
       "nr_cpf                           0\n",
       "nm_terceirizado                 49\n",
       "nm_categoria_profissional        0\n",
       "nm_escolaridade                  0\n",
       "nr_jornada                       0\n",
       "nm_unidade_prestacao         55851\n",
       "vl_mensal_salario                0\n",
       "vl_mensal_custo                  0\n",
       "Num_Mes_Carga                    0\n",
       "Mes_Carga                        0\n",
       "Ano_Carga                        0\n",
       "sg_orgao                      1490\n",
       "nm_orgao                      1490\n",
       "cd_orgao_siafi                2482\n",
       "cd_orgao_siape                1490\n",
       "dtype: int64"
      ]
     },
     "execution_count": 25,
     "metadata": {},
     "output_type": "execute_result"
    }
   ],
   "source": [
    "df_historico_atualizado.isna().sum()"
   ]
  },
  {
   "cell_type": "markdown",
   "id": "f624c447-ac50-410b-b03d-82ef76fe3e12",
   "metadata": {},
   "source": [
    "### Transformar os dados para as análises"
   ]
  },
  {
   "cell_type": "code",
   "execution_count": 26,
   "id": "3228b66b-d7df-44c9-aad6-33b963447738",
   "metadata": {},
   "outputs": [
    {
     "name": "stdout",
     "output_type": "stream",
     "text": [
      "<class 'pandas.core.frame.DataFrame'>\n",
      "Int64Index: 2108309 entries, 0 to 2123598\n",
      "Data columns (total 23 columns):\n",
      " #   Column                     Dtype \n",
      "---  ------                     ----- \n",
      " 0   id_terc                    object\n",
      " 1   sg_orgao_sup_tabela_ug     object\n",
      " 2   cd_ug_gestora              object\n",
      " 3   nm_ug_tabela_ug            object\n",
      " 4   sg_ug_gestora              object\n",
      " 5   nr_contrato                object\n",
      " 6   nr_cnpj                    object\n",
      " 7   nm_razao_social            object\n",
      " 8   nr_cpf                     object\n",
      " 9   nm_terceirizado            object\n",
      " 10  nm_categoria_profissional  object\n",
      " 11  nm_escolaridade            object\n",
      " 12  nr_jornada                 object\n",
      " 13  nm_unidade_prestacao       object\n",
      " 14  vl_mensal_salario          object\n",
      " 15  vl_mensal_custo            object\n",
      " 16  Num_Mes_Carga              object\n",
      " 17  Mes_Carga                  object\n",
      " 18  Ano_Carga                  object\n",
      " 19  sg_orgao                   object\n",
      " 20  nm_orgao                   object\n",
      " 21  cd_orgao_siafi             object\n",
      " 22  cd_orgao_siape             object\n",
      "dtypes: object(23)\n",
      "memory usage: 386.0+ MB\n"
     ]
    }
   ],
   "source": [
    "df_historico_atualizado.info()"
   ]
  },
  {
   "cell_type": "markdown",
   "id": "43dc3ef0-1b74-41e6-9ee2-170222bea439",
   "metadata": {},
   "source": [
    "Os dados estão como tipo object, precisamos transformá-los para fazerem sentido nas análises."
   ]
  },
  {
   "cell_type": "code",
   "execution_count": 30,
   "id": "9592ffb5-054c-4931-bc86-cc4e823112f7",
   "metadata": {},
   "outputs": [],
   "source": [
    "# Força conversão para número, valores inválidos viram NaN\n",
    "df_historico_atualizado['nr_jornada'] = pd.to_numeric(df_historico_atualizado['nr_jornada'], errors='coerce')\n",
    "df_historico_atualizado['Ano_Carga'] = pd.to_numeric(df_historico_atualizado['Ano_Carga'], errors='coerce')\n",
    "\n",
    "# Remove linhas com NaN nas colunas\n",
    "df_historico_atualizado = df_historico_atualizado.dropna(subset=['nr_jornada', 'Ano_Carga'])\n",
    "\n",
    "# Converte para inteiro\n",
    "df_historico_atualizado['nr_jornada'] = df_historico_atualizado['nr_jornada'].astype(int)\n",
    "df_historico_atualizado['Ano_Carga'] = df_historico_atualizado['Ano_Carga'].astype(int)"
   ]
  },
  {
   "cell_type": "code",
   "execution_count": 31,
   "id": "95465932-580c-4853-9308-2f1ea5a97cc5",
   "metadata": {},
   "outputs": [],
   "source": [
    "# Converte para float com duas casas decimais\n",
    "df_historico_atualizado['vl_mensal_salario'] = df_historico_atualizado['vl_mensal_salario'].astype(float).round(2)\n",
    "df_historico_atualizado['vl_mensal_custo'] = df_historico_atualizado['vl_mensal_custo'].astype(float).round(2)"
   ]
  },
  {
   "cell_type": "markdown",
   "id": "a5bc1d4a-418e-4d68-abe5-c8146e05c194",
   "metadata": {},
   "source": [
    "### Quantidade de terceirizados por ano de carga na CGU"
   ]
  },
  {
   "cell_type": "code",
   "execution_count": 36,
   "id": "7d89ce82-5d87-44c2-95c4-647820db0fee",
   "metadata": {},
   "outputs": [
    {
     "data": {
      "image/png": "[encoded data removed]",
      "text/plain": [
       "<Figure size 1200x600 with 1 Axes>"
      ]
     },
     "metadata": {},
     "output_type": "display_data"
    }
   ],
   "source": [
    "# Estilo bonito\n",
    "sns.set(style=\"whitegrid\")\n",
    "\n",
    "# Contagem de terceirizados por ano\n",
    "plt.figure(figsize=(12, 6))\n",
    "ax = sns.countplot(data=df_historico_atualizado, x=\"Ano_Carga\", color='skyblue')\n",
    "\n",
    "# Títulos e rótulos\n",
    "ax.set_title(\"Quantidade de Terceirizados por Ano de Carga\", fontsize=16)\n",
    "ax.set_xlabel(\"Ano de Carga\", fontsize=12)\n",
    "ax.set_ylabel(\"Quantidade de Terceirizados\", fontsize=12)\n",
    "\n",
    "# Adiciona os valores no topo das barras, como inteiros\n",
    "for p in ax.patches:\n",
    "    height = int(p.get_height())\n",
    "    ax.annotate(f'{height}', (p.get_x() + p.get_width() / 2., height),\n",
    "                ha='center', va='bottom', fontsize=9)\n",
    "    \n",
    "# Caminho e nome do arquivo\n",
    "#plt.savefig(\"./graficos/quantidade_terceirizados_por_ano.png\", dpi=300)  # Salva em alta resolução\n",
    "\n",
    "plt.tight_layout()\n",
    "plt.show()"
   ]
  },
  {
   "cell_type": "code",
   "execution_count": null,
   "id": "10906694-acaa-47cf-b277-97a129431fe6",
   "metadata": {},
   "outputs": [],
   "source": []
  }
 ],
 "metadata": {
  "kernelspec": {
   "display_name": "Python 3 (ipykernel)",
   "language": "python",
   "name": "python3"
  },
  "language_info": {
   "codemirror_mode": {
    "name": "ipython",
    "version": 3
   },
   "file_extension": ".py",
   "mimetype": "text/x-python",
   "name": "python",
   "nbconvert_exporter": "python",
   "pygments_lexer": "ipython3",
   "version": "3.9.6"
  }
 },
 "nbformat": 4,
 "nbformat_minor": 5
}

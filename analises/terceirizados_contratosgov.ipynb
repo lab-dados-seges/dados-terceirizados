{
 "cells": [
  {
   "cell_type": "code",
   "execution_count": 1,
   "id": "215a94c6-7276-4748-8216-9323272e8a31",
   "metadata": {},
   "outputs": [],
   "source": [
    "import pandas as pd\n",
    "import matplotlib.pyplot as plt\n",
    "import seaborn as sns\n",
    "import numpy as np\n",
    "from pathlib import Path"
   ]
  },
  {
   "cell_type": "markdown",
   "id": "209e16a6-1b4e-4b6c-804a-3394efed756c",
   "metadata": {},
   "source": [
    "# Análise dos terceirizados ativos"
   ]
  },
  {
   "cell_type": "markdown",
   "id": "d86f5aff-3431-47b9-884b-e0599ac70dd3",
   "metadata": {},
   "source": [
    "## Criar um dataframe apenas com os terceirizados ativos"
   ]
  },
  {
   "cell_type": "code",
   "execution_count": 2,
   "id": "7067998c-2352-4e88-aedd-192453d87aa1",
   "metadata": {},
   "outputs": [],
   "source": [
    "df_terceirizados = pd.read_csv(\"../extracao_dados/terceirizados_consolidados.csv\", dtype=str)"
   ]
  },
  {
   "cell_type": "code",
   "execution_count": 3,
   "id": "71755978-a589-471f-8508-38dfa2d7feba",
   "metadata": {},
   "outputs": [
    {
     "data": {
      "text/html": [
       "<div>\n",
       "<style scoped>\n",
       "    .dataframe tbody tr th:only-of-type {\n",
       "        vertical-align: middle;\n",
       "    }\n",
       "\n",
       "    .dataframe tbody tr th {\n",
       "        vertical-align: top;\n",
       "    }\n",
       "\n",
       "    .dataframe thead th {\n",
       "        text-align: right;\n",
       "    }\n",
       "</style>\n",
       "<table border=\"1\" class=\"dataframe\">\n",
       "  <thead>\n",
       "    <tr style=\"text-align: right;\">\n",
       "      <th></th>\n",
       "      <th>Órgão</th>\n",
       "      <th>Unidade Gestora</th>\n",
       "      <th>Fornecedor</th>\n",
       "      <th>Número Contrato</th>\n",
       "      <th>CPF</th>\n",
       "      <th>Nome</th>\n",
       "      <th>Função</th>\n",
       "      <th>Descrição Complementar</th>\n",
       "      <th>Jornada Semanal</th>\n",
       "      <th>Unidade</th>\n",
       "      <th>Custo do posto</th>\n",
       "      <th>Auxílio Trasporte</th>\n",
       "      <th>Vale Alimentação</th>\n",
       "      <th>Escolaridade</th>\n",
       "      <th>Data Início</th>\n",
       "      <th>Data Fim</th>\n",
       "      <th>Situação</th>\n",
       "    </tr>\n",
       "  </thead>\n",
       "  <tbody>\n",
       "    <tr>\n",
       "      <th>0</th>\n",
       "      <td>26266 - FUNDACAO UNIVERSIDADE FEDERAL DO PAMPA</td>\n",
       "      <td>154359 - UNIPAMPA</td>\n",
       "      <td>10.439.655/0001-14 - PHENIX SOLUCOES LTDA</td>\n",
       "      <td>00003/2017</td>\n",
       "      <td>***.043.350-**</td>\n",
       "      <td>DANIEL SOARES DE ALMEIDA</td>\n",
       "      <td>Almoxarife</td>\n",
       "      <td>NaN</td>\n",
       "      <td>30</td>\n",
       "      <td>BAGÉ</td>\n",
       "      <td>R$ 2.239,48</td>\n",
       "      <td>R$ 0,00</td>\n",
       "      <td>R$ 0,00</td>\n",
       "      <td>06 – Ensino Médio Completo</td>\n",
       "      <td>05/12/2018</td>\n",
       "      <td>NaN</td>\n",
       "      <td>Ativo</td>\n",
       "    </tr>\n",
       "    <tr>\n",
       "      <th>1</th>\n",
       "      <td>63000 - ADVOCACIA-GERAL DA UNIAO</td>\n",
       "      <td>110097 - SAD4R/AGU</td>\n",
       "      <td>13.697.422/0001-00 - GED PRESTADORA DE SERVICO...</td>\n",
       "      <td>00012/2020</td>\n",
       "      <td>***.566.379-**</td>\n",
       "      <td>ALESSANDRA LOPES FERREIRA</td>\n",
       "      <td>Agente administrativo</td>\n",
       "      <td>NaN</td>\n",
       "      <td>40</td>\n",
       "      <td>EA FOZ DO IGUAÇU/ AGU/PR</td>\n",
       "      <td>R$ 3.535,06</td>\n",
       "      <td>R$ 0,00</td>\n",
       "      <td>R$ 0,00</td>\n",
       "      <td>06 – Ensino Médio Completo</td>\n",
       "      <td>28/07/2021</td>\n",
       "      <td>NaN</td>\n",
       "      <td>Ativo</td>\n",
       "    </tr>\n",
       "    <tr>\n",
       "      <th>2</th>\n",
       "      <td>30203 - INSTIT.NAC. DE METROLOG. QUALID. E TEC...</td>\n",
       "      <td>183039 - SURRS</td>\n",
       "      <td>04.321.961/0002-30 - BRAVHA SERVICOS LTDA</td>\n",
       "      <td>00018/2021</td>\n",
       "      <td>***.518.920-**</td>\n",
       "      <td>DARLEN PATRÍCIA VIANA DOS SANTOS</td>\n",
       "      <td>Auxiliar de Limpeza</td>\n",
       "      <td>SERVENTE DE LIMPEZA</td>\n",
       "      <td>40</td>\n",
       "      <td>SURRS/NUADM</td>\n",
       "      <td>R$ 4.086,76</td>\n",
       "      <td>R$ 4,80</td>\n",
       "      <td>R$ 22,00</td>\n",
       "      <td>03 – Ensino Fundamental Incompleto</td>\n",
       "      <td>25/09/2023</td>\n",
       "      <td>27/09/2023</td>\n",
       "      <td>Inativo</td>\n",
       "    </tr>\n",
       "    <tr>\n",
       "      <th>3</th>\n",
       "      <td>36201 - FUNDACAO OSWALDO CRUZ</td>\n",
       "      <td>254462 - COGIC/FIOCRUZ</td>\n",
       "      <td>16.099.194/0001-64 - ELETRODATA ENGENHARIA LTDA</td>\n",
       "      <td>00051/2019</td>\n",
       "      <td>***.763.787-**</td>\n",
       "      <td>EVERTON DOS SANTOS SILVA</td>\n",
       "      <td>Oficial de manutenção predial</td>\n",
       "      <td>AUXILIAR - MANUTENÇÃO CIVIL - ELÉTRICA / MEIO-...</td>\n",
       "      <td>44</td>\n",
       "      <td>COGIC</td>\n",
       "      <td>R$ 6.220,25</td>\n",
       "      <td>R$ 16,20</td>\n",
       "      <td>R$ 28,84</td>\n",
       "      <td>06 – Ensino Médio Completo</td>\n",
       "      <td>23/12/2019</td>\n",
       "      <td>NaN</td>\n",
       "      <td>Ativo</td>\n",
       "    </tr>\n",
       "    <tr>\n",
       "      <th>4</th>\n",
       "      <td>36201 - FUNDACAO OSWALDO CRUZ</td>\n",
       "      <td>254462 - COGIC/FIOCRUZ</td>\n",
       "      <td>16.099.194/0001-64 - ELETRODATA ENGENHARIA LTDA</td>\n",
       "      <td>00051/2019</td>\n",
       "      <td>***.863.497-**</td>\n",
       "      <td>IREMAR ROQUE DA CRUZ</td>\n",
       "      <td>Oficial de manutenção predial</td>\n",
       "      <td>OFICIAL - MANUTENÇÃO CIVIL - PEDREIRO</td>\n",
       "      <td>44</td>\n",
       "      <td>COGIC</td>\n",
       "      <td>R$ 6.671,02</td>\n",
       "      <td>R$ 0,00</td>\n",
       "      <td>R$ 28,84</td>\n",
       "      <td>06 – Ensino Médio Completo</td>\n",
       "      <td>23/12/2019</td>\n",
       "      <td>NaN</td>\n",
       "      <td>Ativo</td>\n",
       "    </tr>\n",
       "  </tbody>\n",
       "</table>\n",
       "</div>"
      ],
      "text/plain": [
       "                                               Órgão         Unidade Gestora  \\\n",
       "0     26266 - FUNDACAO UNIVERSIDADE FEDERAL DO PAMPA       154359 - UNIPAMPA   \n",
       "1                   63000 - ADVOCACIA-GERAL DA UNIAO      110097 - SAD4R/AGU   \n",
       "2  30203 - INSTIT.NAC. DE METROLOG. QUALID. E TEC...          183039 - SURRS   \n",
       "3                      36201 - FUNDACAO OSWALDO CRUZ  254462 - COGIC/FIOCRUZ   \n",
       "4                      36201 - FUNDACAO OSWALDO CRUZ  254462 - COGIC/FIOCRUZ   \n",
       "\n",
       "                                          Fornecedor Número Contrato  \\\n",
       "0          10.439.655/0001-14 - PHENIX SOLUCOES LTDA      00003/2017   \n",
       "1  13.697.422/0001-00 - GED PRESTADORA DE SERVICO...      00012/2020   \n",
       "2          04.321.961/0002-30 - BRAVHA SERVICOS LTDA      00018/2021   \n",
       "3    16.099.194/0001-64 - ELETRODATA ENGENHARIA LTDA      00051/2019   \n",
       "4    16.099.194/0001-64 - ELETRODATA ENGENHARIA LTDA      00051/2019   \n",
       "\n",
       "              CPF                              Nome  \\\n",
       "0  ***.043.350-**          DANIEL SOARES DE ALMEIDA   \n",
       "1  ***.566.379-**         ALESSANDRA LOPES FERREIRA   \n",
       "2  ***.518.920-**  DARLEN PATRÍCIA VIANA DOS SANTOS   \n",
       "3  ***.763.787-**          EVERTON DOS SANTOS SILVA   \n",
       "4  ***.863.497-**              IREMAR ROQUE DA CRUZ   \n",
       "\n",
       "                          Função  \\\n",
       "0                     Almoxarife   \n",
       "1          Agente administrativo   \n",
       "2            Auxiliar de Limpeza   \n",
       "3  Oficial de manutenção predial   \n",
       "4  Oficial de manutenção predial   \n",
       "\n",
       "                              Descrição Complementar Jornada Semanal  \\\n",
       "0                                                NaN              30   \n",
       "1                                                NaN              40   \n",
       "2                                SERVENTE DE LIMPEZA              40   \n",
       "3  AUXILIAR - MANUTENÇÃO CIVIL - ELÉTRICA / MEIO-...              44   \n",
       "4              OFICIAL - MANUTENÇÃO CIVIL - PEDREIRO              44   \n",
       "\n",
       "                    Unidade Custo do posto Auxílio Trasporte Vale Alimentação  \\\n",
       "0                      BAGÉ    R$ 2.239,48           R$ 0,00          R$ 0,00   \n",
       "1  EA FOZ DO IGUAÇU/ AGU/PR    R$ 3.535,06           R$ 0,00          R$ 0,00   \n",
       "2               SURRS/NUADM    R$ 4.086,76           R$ 4,80         R$ 22,00   \n",
       "3                     COGIC    R$ 6.220,25          R$ 16,20         R$ 28,84   \n",
       "4                     COGIC    R$ 6.671,02           R$ 0,00         R$ 28,84   \n",
       "\n",
       "                         Escolaridade Data Início    Data Fim Situação  \n",
       "0          06 – Ensino Médio Completo  05/12/2018         NaN    Ativo  \n",
       "1          06 – Ensino Médio Completo  28/07/2021         NaN    Ativo  \n",
       "2  03 – Ensino Fundamental Incompleto  25/09/2023  27/09/2023  Inativo  \n",
       "3          06 – Ensino Médio Completo  23/12/2019         NaN    Ativo  \n",
       "4          06 – Ensino Médio Completo  23/12/2019         NaN    Ativo  "
      ]
     },
     "execution_count": 3,
     "metadata": {},
     "output_type": "execute_result"
    }
   ],
   "source": [
    "df_terceirizados.head()"
   ]
  },
  {
   "cell_type": "code",
   "execution_count": 4,
   "id": "54294505-d11b-493f-8b3d-ed8f3bd34cce",
   "metadata": {},
   "outputs": [
    {
     "data": {
      "text/plain": [
       "Index(['Órgão', 'Unidade Gestora', 'Fornecedor', 'Número Contrato', 'CPF',\n",
       "       'Nome', 'Função', 'Descrição Complementar', 'Jornada Semanal',\n",
       "       'Unidade', 'Custo do posto', 'Auxílio Trasporte', 'Vale Alimentação',\n",
       "       'Escolaridade', 'Data Início', 'Data Fim', 'Situação'],\n",
       "      dtype='object')"
      ]
     },
     "execution_count": 4,
     "metadata": {},
     "output_type": "execute_result"
    }
   ],
   "source": [
    "df_terceirizados.columns"
   ]
  },
  {
   "cell_type": "code",
   "execution_count": 5,
   "id": "2ccc41ca-fa15-4f3c-bcd3-bdb045813dc4",
   "metadata": {},
   "outputs": [],
   "source": [
    "df_ativos = df_terceirizados[df_terceirizados['Situação'].str.strip().str.upper() == 'ATIVO'].copy()"
   ]
  },
  {
   "cell_type": "code",
   "execution_count": 6,
   "id": "d6f0a3ab-7f84-4393-8201-260eb24508d3",
   "metadata": {},
   "outputs": [
    {
     "data": {
      "text/plain": [
       "(39466, 17)"
      ]
     },
     "execution_count": 6,
     "metadata": {},
     "output_type": "execute_result"
    }
   ],
   "source": [
    "df_ativos.shape"
   ]
  },
  {
   "cell_type": "code",
   "execution_count": 7,
   "id": "d2a5d306-6df4-4fab-aa2b-a840a6b19357",
   "metadata": {},
   "outputs": [
    {
     "data": {
      "text/html": [
       "<div>\n",
       "<style scoped>\n",
       "    .dataframe tbody tr th:only-of-type {\n",
       "        vertical-align: middle;\n",
       "    }\n",
       "\n",
       "    .dataframe tbody tr th {\n",
       "        vertical-align: top;\n",
       "    }\n",
       "\n",
       "    .dataframe thead th {\n",
       "        text-align: right;\n",
       "    }\n",
       "</style>\n",
       "<table border=\"1\" class=\"dataframe\">\n",
       "  <thead>\n",
       "    <tr style=\"text-align: right;\">\n",
       "      <th></th>\n",
       "      <th>Órgão</th>\n",
       "      <th>Unidade Gestora</th>\n",
       "      <th>Fornecedor</th>\n",
       "      <th>Número Contrato</th>\n",
       "      <th>CPF</th>\n",
       "      <th>Nome</th>\n",
       "      <th>Função</th>\n",
       "      <th>Descrição Complementar</th>\n",
       "      <th>Jornada Semanal</th>\n",
       "      <th>Unidade</th>\n",
       "      <th>Custo do posto</th>\n",
       "      <th>Auxílio Trasporte</th>\n",
       "      <th>Vale Alimentação</th>\n",
       "      <th>Escolaridade</th>\n",
       "      <th>Data Início</th>\n",
       "      <th>Data Fim</th>\n",
       "      <th>Situação</th>\n",
       "    </tr>\n",
       "  </thead>\n",
       "  <tbody>\n",
       "    <tr>\n",
       "      <th>0</th>\n",
       "      <td>26266 - FUNDACAO UNIVERSIDADE FEDERAL DO PAMPA</td>\n",
       "      <td>154359 - UNIPAMPA</td>\n",
       "      <td>10.439.655/0001-14 - PHENIX SOLUCOES LTDA</td>\n",
       "      <td>00003/2017</td>\n",
       "      <td>***.043.350-**</td>\n",
       "      <td>DANIEL SOARES DE ALMEIDA</td>\n",
       "      <td>Almoxarife</td>\n",
       "      <td>NaN</td>\n",
       "      <td>30</td>\n",
       "      <td>BAGÉ</td>\n",
       "      <td>R$ 2.239,48</td>\n",
       "      <td>R$ 0,00</td>\n",
       "      <td>R$ 0,00</td>\n",
       "      <td>06 – Ensino Médio Completo</td>\n",
       "      <td>05/12/2018</td>\n",
       "      <td>NaN</td>\n",
       "      <td>Ativo</td>\n",
       "    </tr>\n",
       "    <tr>\n",
       "      <th>1</th>\n",
       "      <td>63000 - ADVOCACIA-GERAL DA UNIAO</td>\n",
       "      <td>110097 - SAD4R/AGU</td>\n",
       "      <td>13.697.422/0001-00 - GED PRESTADORA DE SERVICO...</td>\n",
       "      <td>00012/2020</td>\n",
       "      <td>***.566.379-**</td>\n",
       "      <td>ALESSANDRA LOPES FERREIRA</td>\n",
       "      <td>Agente administrativo</td>\n",
       "      <td>NaN</td>\n",
       "      <td>40</td>\n",
       "      <td>EA FOZ DO IGUAÇU/ AGU/PR</td>\n",
       "      <td>R$ 3.535,06</td>\n",
       "      <td>R$ 0,00</td>\n",
       "      <td>R$ 0,00</td>\n",
       "      <td>06 – Ensino Médio Completo</td>\n",
       "      <td>28/07/2021</td>\n",
       "      <td>NaN</td>\n",
       "      <td>Ativo</td>\n",
       "    </tr>\n",
       "    <tr>\n",
       "      <th>3</th>\n",
       "      <td>36201 - FUNDACAO OSWALDO CRUZ</td>\n",
       "      <td>254462 - COGIC/FIOCRUZ</td>\n",
       "      <td>16.099.194/0001-64 - ELETRODATA ENGENHARIA LTDA</td>\n",
       "      <td>00051/2019</td>\n",
       "      <td>***.763.787-**</td>\n",
       "      <td>EVERTON DOS SANTOS SILVA</td>\n",
       "      <td>Oficial de manutenção predial</td>\n",
       "      <td>AUXILIAR - MANUTENÇÃO CIVIL - ELÉTRICA / MEIO-...</td>\n",
       "      <td>44</td>\n",
       "      <td>COGIC</td>\n",
       "      <td>R$ 6.220,25</td>\n",
       "      <td>R$ 16,20</td>\n",
       "      <td>R$ 28,84</td>\n",
       "      <td>06 – Ensino Médio Completo</td>\n",
       "      <td>23/12/2019</td>\n",
       "      <td>NaN</td>\n",
       "      <td>Ativo</td>\n",
       "    </tr>\n",
       "    <tr>\n",
       "      <th>4</th>\n",
       "      <td>36201 - FUNDACAO OSWALDO CRUZ</td>\n",
       "      <td>254462 - COGIC/FIOCRUZ</td>\n",
       "      <td>16.099.194/0001-64 - ELETRODATA ENGENHARIA LTDA</td>\n",
       "      <td>00051/2019</td>\n",
       "      <td>***.863.497-**</td>\n",
       "      <td>IREMAR ROQUE DA CRUZ</td>\n",
       "      <td>Oficial de manutenção predial</td>\n",
       "      <td>OFICIAL - MANUTENÇÃO CIVIL - PEDREIRO</td>\n",
       "      <td>44</td>\n",
       "      <td>COGIC</td>\n",
       "      <td>R$ 6.671,02</td>\n",
       "      <td>R$ 0,00</td>\n",
       "      <td>R$ 28,84</td>\n",
       "      <td>06 – Ensino Médio Completo</td>\n",
       "      <td>23/12/2019</td>\n",
       "      <td>NaN</td>\n",
       "      <td>Ativo</td>\n",
       "    </tr>\n",
       "    <tr>\n",
       "      <th>5</th>\n",
       "      <td>36201 - FUNDACAO OSWALDO CRUZ</td>\n",
       "      <td>254462 - COGIC/FIOCRUZ</td>\n",
       "      <td>16.099.194/0001-64 - ELETRODATA ENGENHARIA LTDA</td>\n",
       "      <td>00051/2019</td>\n",
       "      <td>***.294.847-**</td>\n",
       "      <td>OCTAVIO PASCOAL ALVES PINTO</td>\n",
       "      <td>Oficial de manutenção predial</td>\n",
       "      <td>OFICIAL - MANUTENÇÃO CIVIL - ELÉTRICA - PLANTÃ...</td>\n",
       "      <td>44</td>\n",
       "      <td>COGIC</td>\n",
       "      <td>R$ 7.732,94</td>\n",
       "      <td>R$ 16,20</td>\n",
       "      <td>R$ 28,84</td>\n",
       "      <td>06 – Ensino Médio Completo</td>\n",
       "      <td>23/12/2019</td>\n",
       "      <td>NaN</td>\n",
       "      <td>Ativo</td>\n",
       "    </tr>\n",
       "  </tbody>\n",
       "</table>\n",
       "</div>"
      ],
      "text/plain": [
       "                                            Órgão         Unidade Gestora  \\\n",
       "0  26266 - FUNDACAO UNIVERSIDADE FEDERAL DO PAMPA       154359 - UNIPAMPA   \n",
       "1                63000 - ADVOCACIA-GERAL DA UNIAO      110097 - SAD4R/AGU   \n",
       "3                   36201 - FUNDACAO OSWALDO CRUZ  254462 - COGIC/FIOCRUZ   \n",
       "4                   36201 - FUNDACAO OSWALDO CRUZ  254462 - COGIC/FIOCRUZ   \n",
       "5                   36201 - FUNDACAO OSWALDO CRUZ  254462 - COGIC/FIOCRUZ   \n",
       "\n",
       "                                          Fornecedor Número Contrato  \\\n",
       "0          10.439.655/0001-14 - PHENIX SOLUCOES LTDA      00003/2017   \n",
       "1  13.697.422/0001-00 - GED PRESTADORA DE SERVICO...      00012/2020   \n",
       "3    16.099.194/0001-64 - ELETRODATA ENGENHARIA LTDA      00051/2019   \n",
       "4    16.099.194/0001-64 - ELETRODATA ENGENHARIA LTDA      00051/2019   \n",
       "5    16.099.194/0001-64 - ELETRODATA ENGENHARIA LTDA      00051/2019   \n",
       "\n",
       "              CPF                         Nome                         Função  \\\n",
       "0  ***.043.350-**     DANIEL SOARES DE ALMEIDA                     Almoxarife   \n",
       "1  ***.566.379-**    ALESSANDRA LOPES FERREIRA          Agente administrativo   \n",
       "3  ***.763.787-**     EVERTON DOS SANTOS SILVA  Oficial de manutenção predial   \n",
       "4  ***.863.497-**         IREMAR ROQUE DA CRUZ  Oficial de manutenção predial   \n",
       "5  ***.294.847-**  OCTAVIO PASCOAL ALVES PINTO  Oficial de manutenção predial   \n",
       "\n",
       "                              Descrição Complementar Jornada Semanal  \\\n",
       "0                                                NaN              30   \n",
       "1                                                NaN              40   \n",
       "3  AUXILIAR - MANUTENÇÃO CIVIL - ELÉTRICA / MEIO-...              44   \n",
       "4              OFICIAL - MANUTENÇÃO CIVIL - PEDREIRO              44   \n",
       "5  OFICIAL - MANUTENÇÃO CIVIL - ELÉTRICA - PLANTÃ...              44   \n",
       "\n",
       "                    Unidade Custo do posto Auxílio Trasporte Vale Alimentação  \\\n",
       "0                      BAGÉ    R$ 2.239,48           R$ 0,00          R$ 0,00   \n",
       "1  EA FOZ DO IGUAÇU/ AGU/PR    R$ 3.535,06           R$ 0,00          R$ 0,00   \n",
       "3                     COGIC    R$ 6.220,25          R$ 16,20         R$ 28,84   \n",
       "4                     COGIC    R$ 6.671,02           R$ 0,00         R$ 28,84   \n",
       "5                     COGIC    R$ 7.732,94          R$ 16,20         R$ 28,84   \n",
       "\n",
       "                 Escolaridade Data Início Data Fim Situação  \n",
       "0  06 – Ensino Médio Completo  05/12/2018      NaN    Ativo  \n",
       "1  06 – Ensino Médio Completo  28/07/2021      NaN    Ativo  \n",
       "3  06 – Ensino Médio Completo  23/12/2019      NaN    Ativo  \n",
       "4  06 – Ensino Médio Completo  23/12/2019      NaN    Ativo  \n",
       "5  06 – Ensino Médio Completo  23/12/2019      NaN    Ativo  "
      ]
     },
     "execution_count": 7,
     "metadata": {},
     "output_type": "execute_result"
    }
   ],
   "source": [
    "df_ativos.head()"
   ]
  },
  {
   "cell_type": "markdown",
   "id": "5c6200b5-e9b1-49bc-80f3-b575a0b5fb35",
   "metadata": {},
   "source": [
    "## Distribuição das funções"
   ]
  },
  {
   "cell_type": "code",
   "execution_count": 8,
   "id": "f8aa8505-ef04-4321-afac-fac35e6a7bbf",
   "metadata": {},
   "outputs": [
    {
     "data": {
      "text/plain": [
       "VIGILANTE                         5553\n",
       "Auxiliar de Limpeza               4713\n",
       "Limpeza e Conservação             4162\n",
       "Assistente Administrativo         3029\n",
       "Auxiliar Administrativo           2856\n",
       "                                  ... \n",
       "Tapeceiro                            1\n",
       "Adestrador de animais                1\n",
       "Lavadeiro em geral                   1\n",
       "Locutor de mídias audiovisuais       1\n",
       "Técnico Agropecuário                 1\n",
       "Name: Função, Length: 170, dtype: int64"
      ]
     },
     "execution_count": 8,
     "metadata": {},
     "output_type": "execute_result"
    }
   ],
   "source": [
    "df_ativos['Função'].value_counts() "
   ]
  },
  {
   "cell_type": "code",
   "execution_count": 9,
   "id": "57ec6707-c04b-4a42-b4b0-7b1257d95fd1",
   "metadata": {},
   "outputs": [],
   "source": [
    "# Agrupa por função e conta os registros\n",
    "top_funcoes = (\n",
    "    df_ativos['Função']\n",
    "    .value_counts()\n",
    "    .head(10)\n",
    "    .reset_index()\n",
    "    .rename(columns={'index': 'Função', 'Função': 'Quantidade'})\n",
    ")"
   ]
  },
  {
   "cell_type": "code",
   "execution_count": 10,
   "id": "733263bd-13ee-4c45-964f-88eaadedb1b8",
   "metadata": {},
   "outputs": [
    {
     "data": {
      "text/html": [
       "<div>\n",
       "<style scoped>\n",
       "    .dataframe tbody tr th:only-of-type {\n",
       "        vertical-align: middle;\n",
       "    }\n",
       "\n",
       "    .dataframe tbody tr th {\n",
       "        vertical-align: top;\n",
       "    }\n",
       "\n",
       "    .dataframe thead th {\n",
       "        text-align: right;\n",
       "    }\n",
       "</style>\n",
       "<table border=\"1\" class=\"dataframe\">\n",
       "  <thead>\n",
       "    <tr style=\"text-align: right;\">\n",
       "      <th></th>\n",
       "      <th>Função</th>\n",
       "      <th>Quantidade</th>\n",
       "    </tr>\n",
       "  </thead>\n",
       "  <tbody>\n",
       "    <tr>\n",
       "      <th>0</th>\n",
       "      <td>VIGILANTE</td>\n",
       "      <td>5553</td>\n",
       "    </tr>\n",
       "    <tr>\n",
       "      <th>1</th>\n",
       "      <td>Auxiliar de Limpeza</td>\n",
       "      <td>4713</td>\n",
       "    </tr>\n",
       "    <tr>\n",
       "      <th>2</th>\n",
       "      <td>Limpeza e Conservação</td>\n",
       "      <td>4162</td>\n",
       "    </tr>\n",
       "    <tr>\n",
       "      <th>3</th>\n",
       "      <td>Assistente Administrativo</td>\n",
       "      <td>3029</td>\n",
       "    </tr>\n",
       "    <tr>\n",
       "      <th>4</th>\n",
       "      <td>Auxiliar Administrativo</td>\n",
       "      <td>2856</td>\n",
       "    </tr>\n",
       "    <tr>\n",
       "      <th>5</th>\n",
       "      <td>Recepcionista, em geral</td>\n",
       "      <td>2532</td>\n",
       "    </tr>\n",
       "    <tr>\n",
       "      <th>6</th>\n",
       "      <td>Auxiliar de Serviços Diversos</td>\n",
       "      <td>1445</td>\n",
       "    </tr>\n",
       "    <tr>\n",
       "      <th>7</th>\n",
       "      <td>Motorista</td>\n",
       "      <td>1441</td>\n",
       "    </tr>\n",
       "    <tr>\n",
       "      <th>8</th>\n",
       "      <td>Porteiro</td>\n",
       "      <td>1052</td>\n",
       "    </tr>\n",
       "    <tr>\n",
       "      <th>9</th>\n",
       "      <td>VIGIA</td>\n",
       "      <td>979</td>\n",
       "    </tr>\n",
       "  </tbody>\n",
       "</table>\n",
       "</div>"
      ],
      "text/plain": [
       "                          Função  Quantidade\n",
       "0                      VIGILANTE        5553\n",
       "1            Auxiliar de Limpeza        4713\n",
       "2          Limpeza e Conservação        4162\n",
       "3      Assistente Administrativo        3029\n",
       "4        Auxiliar Administrativo        2856\n",
       "5        Recepcionista, em geral        2532\n",
       "6  Auxiliar de Serviços Diversos        1445\n",
       "7                      Motorista        1441\n",
       "8                       Porteiro        1052\n",
       "9                          VIGIA         979"
      ]
     },
     "execution_count": 10,
     "metadata": {},
     "output_type": "execute_result"
    }
   ],
   "source": [
    "top_funcoes"
   ]
  },
  {
   "cell_type": "code",
   "execution_count": 11,
   "id": "b5356015-9653-4e0c-8307-bc53f5062bae",
   "metadata": {},
   "outputs": [
    {
     "data": {
      "image/png": "[encoded data removed]",
      "text/plain": [
       "<Figure size 1200x600 with 1 Axes>"
      ]
     },
     "metadata": {},
     "output_type": "display_data"
    }
   ],
   "source": [
    "# Cria o gráfico\n",
    "plt.figure(figsize=(12, 6))\n",
    "sns.barplot(data=top_funcoes, y='Função', x='Quantidade', hue='Função', palette='Set2', legend=False)\n",
    "plt.title(\"Top 10 Funções entre Terceirizados Ativos\", fontsize=14)\n",
    "plt.xlabel(\"Quantidade de Terceirizados\")\n",
    "plt.ylabel(\"Função\")\n",
    "\n",
    "plt.tight_layout()\n",
    "\n",
    "# Caminho e nome do arquivo\n",
    "#plt.savefig(\"./graficos/top_10_funcoes.png\", dpi=300)  # Salva em alta resolução\n",
    "\n",
    "plt.show()"
   ]
  },
  {
   "cell_type": "markdown",
   "id": "69fac08e-e9ff-4deb-a523-b793d0d5d73a",
   "metadata": {},
   "source": [
    "## Analisar o salário e as funções"
   ]
  },
  {
   "cell_type": "markdown",
   "id": "56a4670b-3bd1-46cd-a291-132afb64a0f7",
   "metadata": {},
   "source": [
    "Não há informação sobre salário nessa base do Contratos Gov, então vamos cruzar com o histórico da CGU."
   ]
  },
  {
   "cell_type": "code",
   "execution_count": 12,
   "id": "63808822-79cd-4a7d-9678-748dd955a9cc",
   "metadata": {},
   "outputs": [],
   "source": [
    "# Caminho da pasta com os arquivos\n",
    "pasta_terceirizados = Path(\"../../previsao_contratacao/data/terceirizados\")"
   ]
  },
  {
   "cell_type": "code",
   "execution_count": 13,
   "id": "ac532959-6f89-4453-9cd4-7b72adbe90b7",
   "metadata": {},
   "outputs": [],
   "source": [
    "# Anos que você quer tratar\n",
    "anos = [2019, 2020, 2021, 2022, 2023]\n",
    "\n",
    "# Criar um dicionário para armazenar os dataframes por ano\n",
    "dfs_por_ano = {}"
   ]
  },
  {
   "cell_type": "code",
   "execution_count": 14,
   "id": "217cd93e-91e2-4de0-91e9-2806c11f2678",
   "metadata": {},
   "outputs": [
    {
     "name": "stdout",
     "output_type": "stream",
     "text": [
      "📄 Lendo: terceirizados_202101.csv\n",
      "📄 Lendo: terceirizados_202301.csv\n",
      "📄 Lendo: terceirizados_202305.csv\n",
      "📄 Lendo: terceirizados_202105.csv\n",
      "📄 Lendo: terceirizados_202201.csv\n",
      "📄 Lendo: terceirizados_202001.csv\n",
      "📄 Lendo: terceirizados_201905.csv\n",
      "📄 Lendo: terceirizados_201901.csv\n",
      "📄 Lendo: terceirizados_202005.csv\n",
      "📄 Lendo: terceirizados_202205.csv\n",
      "📄 Lendo: terceirizados_202209.csv\n",
      "📄 Lendo: terceirizados_202009.csv\n",
      "📄 Lendo: terceirizados_201909.csv\n",
      "📄 Lendo: terceirizados_202109.csv\n",
      "📄 Lendo: terceirizados_202309.csv\n"
     ]
    }
   ],
   "source": [
    "# Iterar pelos arquivos\n",
    "for arquivo in pasta_terceirizados.glob(\"terceirizados_*.csv\"):\n",
    "    nome_arquivo = arquivo.name\n",
    "    try:\n",
    "        ano = int(nome_arquivo.split(\"_\")[1][:4])\n",
    "    except Exception as e:\n",
    "        print(f\"❌ Erro ao extrair ano de {nome_arquivo}: {e}\")\n",
    "        continue\n",
    "\n",
    "    if ano in anos:\n",
    "        print(f\"📄 Lendo: {nome_arquivo}\")\n",
    "        try:\n",
    "            df = pd.read_csv(arquivo, sep=\";\", encoding=\"latin1\", low_memory=False, dtype=str)\n",
    "        except UnicodeDecodeError as e:\n",
    "            print(f\"⚠️ Erro de encoding em {nome_arquivo}: {e}\")\n",
    "            continue\n",
    "\n",
    "        if ano not in dfs_por_ano:\n",
    "            dfs_por_ano[ano] = []\n",
    "        dfs_por_ano[ano].append(df)"
   ]
  },
  {
   "cell_type": "code",
   "execution_count": 15,
   "id": "0982feac-c584-43b9-9a72-5483ddd9bcf2",
   "metadata": {},
   "outputs": [
    {
     "name": "stdout",
     "output_type": "stream",
     "text": [
      "✅ df_2021 criado com 220032 linhas.\n",
      "✅ df_2023 criado com 233936 linhas.\n",
      "✅ df_2022 criado com 229810 linhas.\n",
      "✅ df_2020 criado com 228724 linhas.\n",
      "✅ df_2019 criado com 276554 linhas.\n"
     ]
    }
   ],
   "source": [
    "# Concatenar os dataframes por ano\n",
    "for ano, lista_dfs in dfs_por_ano.items():\n",
    "    globals()[f\"df_{ano}\"] = pd.concat(lista_dfs, ignore_index=True)\n",
    "    print(f\"✅ df_{ano} criado com {len(globals()[f'df_{ano}'])} linhas.\")"
   ]
  },
  {
   "cell_type": "code",
   "execution_count": 16,
   "id": "dd9d6920-c211-45b4-8e22-1bc6dcabed6a",
   "metadata": {},
   "outputs": [],
   "source": [
    "# Caminho da pasta com os arquivos de 2024\n",
    "pasta_dados = Path(\"../data\")"
   ]
  },
  {
   "cell_type": "code",
   "execution_count": 17,
   "id": "c65a76fd-893b-4fdc-a6d0-e094fe038587",
   "metadata": {},
   "outputs": [],
   "source": [
    "# Seleciona todos os arquivos que seguem o padrão terceirizados2024*.xlsx\n",
    "arquivos_2024 = sorted(pasta_dados.glob(\"terceirizados2024*.xlsx\"))"
   ]
  },
  {
   "cell_type": "code",
   "execution_count": 18,
   "id": "ea2a253d-367d-4290-92cd-4e7fb6a41ee1",
   "metadata": {},
   "outputs": [],
   "source": [
    "# Lê cada arquivo como string\n",
    "dfs_2024 = []\n",
    "for arquivo in arquivos_2024:\n",
    "    df = pd.read_excel(arquivo, dtype=str)\n",
    "    dfs_2024.append(df)"
   ]
  },
  {
   "cell_type": "code",
   "execution_count": 19,
   "id": "5ac969af-7637-4b20-a74f-2a2d5725114e",
   "metadata": {},
   "outputs": [],
   "source": [
    "# Concatena todos os dataframes\n",
    "df_2024 = pd.concat(dfs_2024, ignore_index=True)"
   ]
  },
  {
   "cell_type": "code",
   "execution_count": 20,
   "id": "de76f618-65e4-49e7-a467-5e428b706d24",
   "metadata": {},
   "outputs": [],
   "source": [
    "# Remover duplicatas\n",
    "df_2024 = df_2024.drop_duplicates()"
   ]
  },
  {
   "cell_type": "code",
   "execution_count": 21,
   "id": "09df0f77-c3bc-4b04-8062-b8efea2b2d09",
   "metadata": {},
   "outputs": [],
   "source": [
    "df_historico = pd.read_csv(\"../../previsao_contratacao/data/historico_cgu/terceirizados-2010-2023.csv\", sep=\";\", dtype=str, low_memory=False)"
   ]
  },
  {
   "cell_type": "code",
   "execution_count": 22,
   "id": "14454f15-0554-4a1d-abf7-928f14fab246",
   "metadata": {},
   "outputs": [],
   "source": [
    "df_historico_atualizado = pd.concat([df_historico, df_2019, df_2020, df_2021, df_2022, df_2023, df_2024], ignore_index=True)"
   ]
  },
  {
   "cell_type": "code",
   "execution_count": 23,
   "id": "354c45d0-dab5-46a2-be8f-0ed978fd3dd4",
   "metadata": {},
   "outputs": [],
   "source": [
    "df_historico_atualizado = df_historico_atualizado.drop_duplicates()"
   ]
  },
  {
   "cell_type": "code",
   "execution_count": 24,
   "id": "26a808b5-b2d7-49ba-b9a0-a2a6292b215c",
   "metadata": {},
   "outputs": [
    {
     "data": {
      "text/plain": [
       "Index(['id_terc', 'sg_orgao_sup_tabela_ug', 'cd_ug_gestora', 'nm_ug_tabela_ug',\n",
       "       'sg_ug_gestora', 'nr_contrato', 'nr_cnpj', 'nm_razao_social', 'nr_cpf',\n",
       "       'nm_terceirizado', 'nm_categoria_profissional', 'nm_escolaridade',\n",
       "       'nr_jornada', 'nm_unidade_prestacao', 'vl_mensal_salario',\n",
       "       'vl_mensal_custo', 'Num_Mes_Carga', 'Mes_Carga', 'Ano_Carga',\n",
       "       'sg_orgao', 'nm_orgao', 'cd_orgao_siafi', 'cd_orgao_siape',\n",
       "       'ï»¿id_terc'],\n",
       "      dtype='object')"
      ]
     },
     "execution_count": 24,
     "metadata": {},
     "output_type": "execute_result"
    }
   ],
   "source": [
    "df_historico_atualizado.columns"
   ]
  },
  {
   "cell_type": "code",
   "execution_count": 25,
   "id": "40e4a42c-0185-488f-9ce7-105f30778c80",
   "metadata": {},
   "outputs": [
    {
     "data": {
      "text/html": [
       "<div>\n",
       "<style scoped>\n",
       "    .dataframe tbody tr th:only-of-type {\n",
       "        vertical-align: middle;\n",
       "    }\n",
       "\n",
       "    .dataframe tbody tr th {\n",
       "        vertical-align: top;\n",
       "    }\n",
       "\n",
       "    .dataframe thead th {\n",
       "        text-align: right;\n",
       "    }\n",
       "</style>\n",
       "<table border=\"1\" class=\"dataframe\">\n",
       "  <thead>\n",
       "    <tr style=\"text-align: right;\">\n",
       "      <th></th>\n",
       "      <th>id_terc</th>\n",
       "      <th>sg_orgao_sup_tabela_ug</th>\n",
       "      <th>cd_ug_gestora</th>\n",
       "      <th>nm_ug_tabela_ug</th>\n",
       "      <th>sg_ug_gestora</th>\n",
       "      <th>nr_contrato</th>\n",
       "      <th>nr_cnpj</th>\n",
       "      <th>nm_razao_social</th>\n",
       "      <th>nr_cpf</th>\n",
       "      <th>nm_terceirizado</th>\n",
       "      <th>...</th>\n",
       "      <th>vl_mensal_salario</th>\n",
       "      <th>vl_mensal_custo</th>\n",
       "      <th>Num_Mes_Carga</th>\n",
       "      <th>Mes_Carga</th>\n",
       "      <th>Ano_Carga</th>\n",
       "      <th>sg_orgao</th>\n",
       "      <th>nm_orgao</th>\n",
       "      <th>cd_orgao_siafi</th>\n",
       "      <th>cd_orgao_siape</th>\n",
       "      <th>ï»¿id_terc</th>\n",
       "    </tr>\n",
       "  </thead>\n",
       "  <tbody>\n",
       "    <tr>\n",
       "      <th>0</th>\n",
       "      <td>1</td>\n",
       "      <td>MDA</td>\n",
       "      <td>490011</td>\n",
       "      <td>MINISTERIO DO DESENVOLVIMENTO AGRARIO – ADMINI...</td>\n",
       "      <td>MDA-ADM. DIRETA</td>\n",
       "      <td>68/2008</td>\n",
       "      <td>02633573000188</td>\n",
       "      <td>AJ SERVICOS LTDA</td>\n",
       "      <td>***.140.291-**</td>\n",
       "      <td>CAMILA FERNANDA ROCHA DE SOUSA</td>\n",
       "      <td>...</td>\n",
       "      <td>502.0</td>\n",
       "      <td>0.0</td>\n",
       "      <td>1</td>\n",
       "      <td>JANEIRO</td>\n",
       "      <td>2010</td>\n",
       "      <td>MDA</td>\n",
       "      <td>MINISTERIO DO DESENVOLVIMENTO AGRARIO</td>\n",
       "      <td>49000</td>\n",
       "      <td>42000</td>\n",
       "      <td>NaN</td>\n",
       "    </tr>\n",
       "    <tr>\n",
       "      <th>1</th>\n",
       "      <td>2</td>\n",
       "      <td>MDA</td>\n",
       "      <td>490011</td>\n",
       "      <td>MINISTERIO DO DESENVOLVIMENTO AGRARIO – ADMINI...</td>\n",
       "      <td>MDA-ADM. DIRETA</td>\n",
       "      <td>68/2008</td>\n",
       "      <td>02633573000188</td>\n",
       "      <td>AJ SERVICOS LTDA</td>\n",
       "      <td>***.338.161-**</td>\n",
       "      <td>DEILTON ALVES SANTANA</td>\n",
       "      <td>...</td>\n",
       "      <td>502.0</td>\n",
       "      <td>0.0</td>\n",
       "      <td>1</td>\n",
       "      <td>JANEIRO</td>\n",
       "      <td>2010</td>\n",
       "      <td>MDA</td>\n",
       "      <td>MINISTERIO DO DESENVOLVIMENTO AGRARIO</td>\n",
       "      <td>49000</td>\n",
       "      <td>42000</td>\n",
       "      <td>NaN</td>\n",
       "    </tr>\n",
       "    <tr>\n",
       "      <th>2</th>\n",
       "      <td>3</td>\n",
       "      <td>MDA</td>\n",
       "      <td>490011</td>\n",
       "      <td>MINISTERIO DO DESENVOLVIMENTO AGRARIO – ADMINI...</td>\n",
       "      <td>MDA-ADM. DIRETA</td>\n",
       "      <td>68/2008</td>\n",
       "      <td>02633573000188</td>\n",
       "      <td>AJ SERVICOS LTDA</td>\n",
       "      <td>***.532.161-**</td>\n",
       "      <td>GLEIDES MARIA DE SOUSA</td>\n",
       "      <td>...</td>\n",
       "      <td>940.0</td>\n",
       "      <td>0.0</td>\n",
       "      <td>1</td>\n",
       "      <td>JANEIRO</td>\n",
       "      <td>2010</td>\n",
       "      <td>MDA</td>\n",
       "      <td>MINISTERIO DO DESENVOLVIMENTO AGRARIO</td>\n",
       "      <td>49000</td>\n",
       "      <td>42000</td>\n",
       "      <td>NaN</td>\n",
       "    </tr>\n",
       "    <tr>\n",
       "      <th>3</th>\n",
       "      <td>4</td>\n",
       "      <td>MDA</td>\n",
       "      <td>490011</td>\n",
       "      <td>MINISTERIO DO DESENVOLVIMENTO AGRARIO – ADMINI...</td>\n",
       "      <td>MDA-ADM. DIRETA</td>\n",
       "      <td>68/2008</td>\n",
       "      <td>02633573000188</td>\n",
       "      <td>AJ SERVICOS LTDA</td>\n",
       "      <td>***.694.231-**</td>\n",
       "      <td>DINIS ALVES DE OLIVEIRA</td>\n",
       "      <td>...</td>\n",
       "      <td>940.0</td>\n",
       "      <td>0.0</td>\n",
       "      <td>1</td>\n",
       "      <td>JANEIRO</td>\n",
       "      <td>2010</td>\n",
       "      <td>MDA</td>\n",
       "      <td>MINISTERIO DO DESENVOLVIMENTO AGRARIO</td>\n",
       "      <td>49000</td>\n",
       "      <td>42000</td>\n",
       "      <td>NaN</td>\n",
       "    </tr>\n",
       "    <tr>\n",
       "      <th>4</th>\n",
       "      <td>5</td>\n",
       "      <td>MDA</td>\n",
       "      <td>490011</td>\n",
       "      <td>MINISTERIO DO DESENVOLVIMENTO AGRARIO – ADMINI...</td>\n",
       "      <td>MDA-ADM. DIRETA</td>\n",
       "      <td>68/2008</td>\n",
       "      <td>02633573000188</td>\n",
       "      <td>AJ SERVICOS LTDA</td>\n",
       "      <td>***.049.961-**</td>\n",
       "      <td>ELIETE DUARTE</td>\n",
       "      <td>...</td>\n",
       "      <td>940.0</td>\n",
       "      <td>0.0</td>\n",
       "      <td>1</td>\n",
       "      <td>JANEIRO</td>\n",
       "      <td>2010</td>\n",
       "      <td>MDA</td>\n",
       "      <td>MINISTERIO DO DESENVOLVIMENTO AGRARIO</td>\n",
       "      <td>49000</td>\n",
       "      <td>42000</td>\n",
       "      <td>NaN</td>\n",
       "    </tr>\n",
       "  </tbody>\n",
       "</table>\n",
       "<p>5 rows × 24 columns</p>\n",
       "</div>"
      ],
      "text/plain": [
       "  id_terc sg_orgao_sup_tabela_ug cd_ug_gestora  \\\n",
       "0       1                    MDA        490011   \n",
       "1       2                    MDA        490011   \n",
       "2       3                    MDA        490011   \n",
       "3       4                    MDA        490011   \n",
       "4       5                    MDA        490011   \n",
       "\n",
       "                                     nm_ug_tabela_ug    sg_ug_gestora  \\\n",
       "0  MINISTERIO DO DESENVOLVIMENTO AGRARIO – ADMINI...  MDA-ADM. DIRETA   \n",
       "1  MINISTERIO DO DESENVOLVIMENTO AGRARIO – ADMINI...  MDA-ADM. DIRETA   \n",
       "2  MINISTERIO DO DESENVOLVIMENTO AGRARIO – ADMINI...  MDA-ADM. DIRETA   \n",
       "3  MINISTERIO DO DESENVOLVIMENTO AGRARIO – ADMINI...  MDA-ADM. DIRETA   \n",
       "4  MINISTERIO DO DESENVOLVIMENTO AGRARIO – ADMINI...  MDA-ADM. DIRETA   \n",
       "\n",
       "  nr_contrato         nr_cnpj   nm_razao_social          nr_cpf  \\\n",
       "0     68/2008  02633573000188  AJ SERVICOS LTDA  ***.140.291-**   \n",
       "1     68/2008  02633573000188  AJ SERVICOS LTDA  ***.338.161-**   \n",
       "2     68/2008  02633573000188  AJ SERVICOS LTDA  ***.532.161-**   \n",
       "3     68/2008  02633573000188  AJ SERVICOS LTDA  ***.694.231-**   \n",
       "4     68/2008  02633573000188  AJ SERVICOS LTDA  ***.049.961-**   \n",
       "\n",
       "                  nm_terceirizado  ... vl_mensal_salario vl_mensal_custo  \\\n",
       "0  CAMILA FERNANDA ROCHA DE SOUSA  ...             502.0             0.0   \n",
       "1           DEILTON ALVES SANTANA  ...             502.0             0.0   \n",
       "2          GLEIDES MARIA DE SOUSA  ...             940.0             0.0   \n",
       "3         DINIS ALVES DE OLIVEIRA  ...             940.0             0.0   \n",
       "4                   ELIETE DUARTE  ...             940.0             0.0   \n",
       "\n",
       "  Num_Mes_Carga Mes_Carga Ano_Carga sg_orgao  \\\n",
       "0             1   JANEIRO      2010      MDA   \n",
       "1             1   JANEIRO      2010      MDA   \n",
       "2             1   JANEIRO      2010      MDA   \n",
       "3             1   JANEIRO      2010      MDA   \n",
       "4             1   JANEIRO      2010      MDA   \n",
       "\n",
       "                                nm_orgao cd_orgao_siafi cd_orgao_siape  \\\n",
       "0  MINISTERIO DO DESENVOLVIMENTO AGRARIO          49000          42000   \n",
       "1  MINISTERIO DO DESENVOLVIMENTO AGRARIO          49000          42000   \n",
       "2  MINISTERIO DO DESENVOLVIMENTO AGRARIO          49000          42000   \n",
       "3  MINISTERIO DO DESENVOLVIMENTO AGRARIO          49000          42000   \n",
       "4  MINISTERIO DO DESENVOLVIMENTO AGRARIO          49000          42000   \n",
       "\n",
       "  ï»¿id_terc  \n",
       "0        NaN  \n",
       "1        NaN  \n",
       "2        NaN  \n",
       "3        NaN  \n",
       "4        NaN  \n",
       "\n",
       "[5 rows x 24 columns]"
      ]
     },
     "execution_count": 25,
     "metadata": {},
     "output_type": "execute_result"
    }
   ],
   "source": [
    "df_historico_atualizado.head()"
   ]
  },
  {
   "cell_type": "code",
   "execution_count": 26,
   "id": "bd640e39-c99d-42b4-9d5c-10b565e16585",
   "metadata": {},
   "outputs": [
    {
     "data": {
      "text/plain": [
       "Index(['Órgão', 'Unidade Gestora', 'Fornecedor', 'Número Contrato', 'CPF',\n",
       "       'Nome', 'Função', 'Descrição Complementar', 'Jornada Semanal',\n",
       "       'Unidade', 'Custo do posto', 'Auxílio Trasporte', 'Vale Alimentação',\n",
       "       'Escolaridade', 'Data Início', 'Data Fim', 'Situação'],\n",
       "      dtype='object')"
      ]
     },
     "execution_count": 26,
     "metadata": {},
     "output_type": "execute_result"
    }
   ],
   "source": [
    "df_ativos.columns"
   ]
  },
  {
   "cell_type": "code",
   "execution_count": 27,
   "id": "5ad9f6e7-9b8a-4f3e-b65c-c7ef6c02d096",
   "metadata": {},
   "outputs": [],
   "source": [
    "# Pegar o salário mais recente por CPF no histórico\n",
    "df_salario_por_cpf = (\n",
    "    df_historico_atualizado\n",
    "    .dropna(subset=['nr_cpf', 'vl_mensal_salario'])\n",
    "    .sort_values(['nr_cpf', 'Ano_Carga'], ascending=[True, False])\n",
    "    .drop_duplicates(subset=['nr_cpf'])  # mantém apenas o mais recente por CPF\n",
    "    [['nr_cpf', 'vl_mensal_salario']]    # só mantém essas colunas\n",
    ")"
   ]
  },
  {
   "cell_type": "code",
   "execution_count": 28,
   "id": "8704fa67-b050-4543-9d6c-f709a9a0a205",
   "metadata": {},
   "outputs": [
    {
     "data": {
      "text/html": [
       "<div>\n",
       "<style scoped>\n",
       "    .dataframe tbody tr th:only-of-type {\n",
       "        vertical-align: middle;\n",
       "    }\n",
       "\n",
       "    .dataframe tbody tr th {\n",
       "        vertical-align: top;\n",
       "    }\n",
       "\n",
       "    .dataframe thead th {\n",
       "        text-align: right;\n",
       "    }\n",
       "</style>\n",
       "<table border=\"1\" class=\"dataframe\">\n",
       "  <thead>\n",
       "    <tr style=\"text-align: right;\">\n",
       "      <th></th>\n",
       "      <th>Órgão</th>\n",
       "      <th>Unidade Gestora</th>\n",
       "      <th>Fornecedor</th>\n",
       "      <th>Número Contrato</th>\n",
       "      <th>CPF</th>\n",
       "      <th>Nome</th>\n",
       "      <th>Função</th>\n",
       "      <th>Descrição Complementar</th>\n",
       "      <th>Jornada Semanal</th>\n",
       "      <th>Unidade</th>\n",
       "      <th>Custo do posto</th>\n",
       "      <th>Auxílio Trasporte</th>\n",
       "      <th>Vale Alimentação</th>\n",
       "      <th>Escolaridade</th>\n",
       "      <th>Data Início</th>\n",
       "      <th>Data Fim</th>\n",
       "      <th>Situação</th>\n",
       "      <th>vl_mensal_salario</th>\n",
       "    </tr>\n",
       "  </thead>\n",
       "  <tbody>\n",
       "    <tr>\n",
       "      <th>0</th>\n",
       "      <td>26266 - FUNDACAO UNIVERSIDADE FEDERAL DO PAMPA</td>\n",
       "      <td>154359 - UNIPAMPA</td>\n",
       "      <td>10.439.655/0001-14 - PHENIX SOLUCOES LTDA</td>\n",
       "      <td>00003/2017</td>\n",
       "      <td>***.043.350-**</td>\n",
       "      <td>DANIEL SOARES DE ALMEIDA</td>\n",
       "      <td>Almoxarife</td>\n",
       "      <td>NaN</td>\n",
       "      <td>30</td>\n",
       "      <td>BAGÉ</td>\n",
       "      <td>R$ 2.239,48</td>\n",
       "      <td>R$ 0,00</td>\n",
       "      <td>R$ 0,00</td>\n",
       "      <td>06 – Ensino Médio Completo</td>\n",
       "      <td>05/12/2018</td>\n",
       "      <td>NaN</td>\n",
       "      <td>Ativo</td>\n",
       "      <td>924.0</td>\n",
       "    </tr>\n",
       "    <tr>\n",
       "      <th>1</th>\n",
       "      <td>63000 - ADVOCACIA-GERAL DA UNIAO</td>\n",
       "      <td>110097 - SAD4R/AGU</td>\n",
       "      <td>13.697.422/0001-00 - GED PRESTADORA DE SERVICO...</td>\n",
       "      <td>00012/2020</td>\n",
       "      <td>***.566.379-**</td>\n",
       "      <td>ALESSANDRA LOPES FERREIRA</td>\n",
       "      <td>Agente administrativo</td>\n",
       "      <td>NaN</td>\n",
       "      <td>40</td>\n",
       "      <td>EA FOZ DO IGUAÇU/ AGU/PR</td>\n",
       "      <td>R$ 3.535,06</td>\n",
       "      <td>R$ 0,00</td>\n",
       "      <td>R$ 0,00</td>\n",
       "      <td>06 – Ensino Médio Completo</td>\n",
       "      <td>28/07/2021</td>\n",
       "      <td>NaN</td>\n",
       "      <td>Ativo</td>\n",
       "      <td>NaN</td>\n",
       "    </tr>\n",
       "    <tr>\n",
       "      <th>2</th>\n",
       "      <td>36201 - FUNDACAO OSWALDO CRUZ</td>\n",
       "      <td>254462 - COGIC/FIOCRUZ</td>\n",
       "      <td>16.099.194/0001-64 - ELETRODATA ENGENHARIA LTDA</td>\n",
       "      <td>00051/2019</td>\n",
       "      <td>***.763.787-**</td>\n",
       "      <td>EVERTON DOS SANTOS SILVA</td>\n",
       "      <td>Oficial de manutenção predial</td>\n",
       "      <td>AUXILIAR - MANUTENÇÃO CIVIL - ELÉTRICA / MEIO-...</td>\n",
       "      <td>44</td>\n",
       "      <td>COGIC</td>\n",
       "      <td>R$ 6.220,25</td>\n",
       "      <td>R$ 16,20</td>\n",
       "      <td>R$ 28,84</td>\n",
       "      <td>06 – Ensino Médio Completo</td>\n",
       "      <td>23/12/2019</td>\n",
       "      <td>NaN</td>\n",
       "      <td>Ativo</td>\n",
       "      <td>10101</td>\n",
       "    </tr>\n",
       "    <tr>\n",
       "      <th>3</th>\n",
       "      <td>36201 - FUNDACAO OSWALDO CRUZ</td>\n",
       "      <td>254462 - COGIC/FIOCRUZ</td>\n",
       "      <td>16.099.194/0001-64 - ELETRODATA ENGENHARIA LTDA</td>\n",
       "      <td>00051/2019</td>\n",
       "      <td>***.863.497-**</td>\n",
       "      <td>IREMAR ROQUE DA CRUZ</td>\n",
       "      <td>Oficial de manutenção predial</td>\n",
       "      <td>OFICIAL - MANUTENÇÃO CIVIL - PEDREIRO</td>\n",
       "      <td>44</td>\n",
       "      <td>COGIC</td>\n",
       "      <td>R$ 6.671,02</td>\n",
       "      <td>R$ 0,00</td>\n",
       "      <td>R$ 28,84</td>\n",
       "      <td>06 – Ensino Médio Completo</td>\n",
       "      <td>23/12/2019</td>\n",
       "      <td>NaN</td>\n",
       "      <td>Ativo</td>\n",
       "      <td>1764</td>\n",
       "    </tr>\n",
       "    <tr>\n",
       "      <th>4</th>\n",
       "      <td>36201 - FUNDACAO OSWALDO CRUZ</td>\n",
       "      <td>254462 - COGIC/FIOCRUZ</td>\n",
       "      <td>16.099.194/0001-64 - ELETRODATA ENGENHARIA LTDA</td>\n",
       "      <td>00051/2019</td>\n",
       "      <td>***.294.847-**</td>\n",
       "      <td>OCTAVIO PASCOAL ALVES PINTO</td>\n",
       "      <td>Oficial de manutenção predial</td>\n",
       "      <td>OFICIAL - MANUTENÇÃO CIVIL - ELÉTRICA - PLANTÃ...</td>\n",
       "      <td>44</td>\n",
       "      <td>COGIC</td>\n",
       "      <td>R$ 7.732,94</td>\n",
       "      <td>R$ 16,20</td>\n",
       "      <td>R$ 28,84</td>\n",
       "      <td>06 – Ensino Médio Completo</td>\n",
       "      <td>23/12/2019</td>\n",
       "      <td>NaN</td>\n",
       "      <td>Ativo</td>\n",
       "      <td>2899</td>\n",
       "    </tr>\n",
       "  </tbody>\n",
       "</table>\n",
       "</div>"
      ],
      "text/plain": [
       "                                            Órgão         Unidade Gestora  \\\n",
       "0  26266 - FUNDACAO UNIVERSIDADE FEDERAL DO PAMPA       154359 - UNIPAMPA   \n",
       "1                63000 - ADVOCACIA-GERAL DA UNIAO      110097 - SAD4R/AGU   \n",
       "2                   36201 - FUNDACAO OSWALDO CRUZ  254462 - COGIC/FIOCRUZ   \n",
       "3                   36201 - FUNDACAO OSWALDO CRUZ  254462 - COGIC/FIOCRUZ   \n",
       "4                   36201 - FUNDACAO OSWALDO CRUZ  254462 - COGIC/FIOCRUZ   \n",
       "\n",
       "                                          Fornecedor Número Contrato  \\\n",
       "0          10.439.655/0001-14 - PHENIX SOLUCOES LTDA      00003/2017   \n",
       "1  13.697.422/0001-00 - GED PRESTADORA DE SERVICO...      00012/2020   \n",
       "2    16.099.194/0001-64 - ELETRODATA ENGENHARIA LTDA      00051/2019   \n",
       "3    16.099.194/0001-64 - ELETRODATA ENGENHARIA LTDA      00051/2019   \n",
       "4    16.099.194/0001-64 - ELETRODATA ENGENHARIA LTDA      00051/2019   \n",
       "\n",
       "              CPF                         Nome                         Função  \\\n",
       "0  ***.043.350-**     DANIEL SOARES DE ALMEIDA                     Almoxarife   \n",
       "1  ***.566.379-**    ALESSANDRA LOPES FERREIRA          Agente administrativo   \n",
       "2  ***.763.787-**     EVERTON DOS SANTOS SILVA  Oficial de manutenção predial   \n",
       "3  ***.863.497-**         IREMAR ROQUE DA CRUZ  Oficial de manutenção predial   \n",
       "4  ***.294.847-**  OCTAVIO PASCOAL ALVES PINTO  Oficial de manutenção predial   \n",
       "\n",
       "                              Descrição Complementar Jornada Semanal  \\\n",
       "0                                                NaN              30   \n",
       "1                                                NaN              40   \n",
       "2  AUXILIAR - MANUTENÇÃO CIVIL - ELÉTRICA / MEIO-...              44   \n",
       "3              OFICIAL - MANUTENÇÃO CIVIL - PEDREIRO              44   \n",
       "4  OFICIAL - MANUTENÇÃO CIVIL - ELÉTRICA - PLANTÃ...              44   \n",
       "\n",
       "                    Unidade Custo do posto Auxílio Trasporte Vale Alimentação  \\\n",
       "0                      BAGÉ    R$ 2.239,48           R$ 0,00          R$ 0,00   \n",
       "1  EA FOZ DO IGUAÇU/ AGU/PR    R$ 3.535,06           R$ 0,00          R$ 0,00   \n",
       "2                     COGIC    R$ 6.220,25          R$ 16,20         R$ 28,84   \n",
       "3                     COGIC    R$ 6.671,02           R$ 0,00         R$ 28,84   \n",
       "4                     COGIC    R$ 7.732,94          R$ 16,20         R$ 28,84   \n",
       "\n",
       "                 Escolaridade Data Início Data Fim Situação vl_mensal_salario  \n",
       "0  06 – Ensino Médio Completo  05/12/2018      NaN    Ativo             924.0  \n",
       "1  06 – Ensino Médio Completo  28/07/2021      NaN    Ativo               NaN  \n",
       "2  06 – Ensino Médio Completo  23/12/2019      NaN    Ativo             10101  \n",
       "3  06 – Ensino Médio Completo  23/12/2019      NaN    Ativo              1764  \n",
       "4  06 – Ensino Médio Completo  23/12/2019      NaN    Ativo              2899  "
      ]
     },
     "execution_count": 28,
     "metadata": {},
     "output_type": "execute_result"
    }
   ],
   "source": [
    "# Faz o merge com df_ativos usando apenas CPF\n",
    "df_ativos_com_salario = df_ativos.merge(\n",
    "    df_salario_por_cpf,\n",
    "    left_on='CPF',\n",
    "    right_on='nr_cpf',\n",
    "    how='left'\n",
    ").drop(columns=['nr_cpf'])  # remove duplicata de coluna de CPF\n",
    "\n",
    "# Resultado final com salário preenchido quando houver\n",
    "df_ativos_com_salario.head()"
   ]
  },
  {
   "cell_type": "markdown",
   "id": "d226f72f-147f-424b-b3f6-d7077454c470",
   "metadata": {},
   "source": [
    "### Top 10 funções com o maior quantitativo"
   ]
  },
  {
   "cell_type": "code",
   "execution_count": 29,
   "id": "cff57f8e-23f6-450a-9eae-331d0a466536",
   "metadata": {},
   "outputs": [],
   "source": [
    "# Define o top 10 funções (supondo que você já tenha a lista)\n",
    "funcoes_top10 = [\n",
    "    \"VIGILANTE\", \"Auxiliar de Limpeza\", \"Limpeza e Conservação\",\n",
    "    \"Assistente Administrativo\", \"Auxiliar Administrativo\",\n",
    "    \"Recepcionista, em geral\", \"Auxiliar de Serviços Diversos\",\n",
    "    \"Motorista\", \"Porteiro\", \"VIGIA\"\n",
    "]"
   ]
  },
  {
   "cell_type": "code",
   "execution_count": 30,
   "id": "bf813b9c-8c52-4779-b58b-ac6c29711eba",
   "metadata": {},
   "outputs": [],
   "source": [
    "# Filtra apenas essas funções\n",
    "df_top_funcoes_salario = df_ativos_com_salario[\n",
    "    df_ativos_com_salario['Função'].isin(funcoes_top10)\n",
    "]"
   ]
  },
  {
   "cell_type": "code",
   "execution_count": 31,
   "id": "abd9bcd3-a1db-44b0-8d9d-16818c6cf912",
   "metadata": {},
   "outputs": [
    {
     "name": "stderr",
     "output_type": "stream",
     "text": [
      "/var/folders/44/wjzjf_412m1cl66j1pj3b0_00000gn/T/ipykernel_1839/1283081169.py:1: SettingWithCopyWarning: \n",
      "A value is trying to be set on a copy of a slice from a DataFrame.\n",
      "Try using .loc[row_indexer,col_indexer] = value instead\n",
      "\n",
      "See the caveats in the documentation: https://pandas.pydata.org/pandas-docs/stable/user_guide/indexing.html#returning-a-view-versus-a-copy\n",
      "  df_top_funcoes_salario['vl_mensal_salario'] = (\n"
     ]
    }
   ],
   "source": [
    "df_top_funcoes_salario['vl_mensal_salario'] = (\n",
    "    df_top_funcoes_salario['vl_mensal_salario']\n",
    "    .astype(str)\n",
    "    .str.replace(',', '.', regex=False)\n",
    "    .str.replace(r'[^\\d\\.]', '', regex=True)  # remove caracteres não numéricos\n",
    "    .replace('', np.nan)                      # substitui strings vazias por NaN\n",
    "    .astype(float)\n",
    ")"
   ]
  },
  {
   "cell_type": "code",
   "execution_count": 32,
   "id": "05c9c68e-080e-42d5-997e-b7aa8db0c774",
   "metadata": {},
   "outputs": [],
   "source": [
    "# Agrupa por função e calcula a mediana do salário\n",
    "df_mediana_salario = (\n",
    "    df_top_funcoes_salario\n",
    "    .groupby('Função')['vl_mensal_salario']\n",
    "    .median()\n",
    "    .sort_values(ascending=False)\n",
    "    .reset_index()\n",
    ")"
   ]
  },
  {
   "cell_type": "code",
   "execution_count": 33,
   "id": "4e52b210-19c9-4479-bd61-f92a14e98fb7",
   "metadata": {},
   "outputs": [
    {
     "data": {
      "image/png": "[encoded data removed]",
      "text/plain": [
       "<Figure size 1200x600 with 1 Axes>"
      ]
     },
     "metadata": {},
     "output_type": "display_data"
    }
   ],
   "source": [
    "# Criação do gráfico\n",
    "plt.figure(figsize=(12, 6))\n",
    "sns.barplot(\n",
    "    data=df_mediana_salario,\n",
    "    x='vl_mensal_salario',\n",
    "    y='Função',\n",
    "    hue='Função',\n",
    "    palette='Set3',\n",
    "    legend=False\n",
    ")\n",
    "\n",
    "plt.title('Mediana Salarial por Função (Top 10 mais frequentes)', fontsize=14)\n",
    "plt.xlabel('Mediana do Salário Mensal (R$)')\n",
    "plt.ylabel('Função')\n",
    "plt.grid(axis='x', linestyle='--', alpha=0.5)\n",
    "plt.tight_layout()\n",
    "\n",
    "# Caminho e nome do arquivo\n",
    "#plt.savefig(\"./graficos/mediana_salarial_ativos.png\", dpi=300)  # Salva em alta resolução\n",
    "\n",
    "plt.show()"
   ]
  },
  {
   "cell_type": "markdown",
   "id": "5f95ab66-de0a-4393-9736-7c77c150b5f8",
   "metadata": {},
   "source": [
    "### Carga horária x Salário mensal"
   ]
  },
  {
   "cell_type": "markdown",
   "id": "660161fa-2e04-4a1b-b192-6d7a892cc662",
   "metadata": {},
   "source": [
    "#### Top 10 categorias com o maior quantitativo de ativos"
   ]
  },
  {
   "cell_type": "markdown",
   "id": "357ccf8f-dea1-42b5-b86a-a11b18268554",
   "metadata": {},
   "source": [
    "Para cálculo do valor da hora da categoria, vamos multiplicar por 4.33 porque é uma média de semana por mês considerando 12 meses. O cálculo ficará assim:\n",
    "\n",
    "valor_hora = vl_mensal_salario / (Jornada Semanal x 4.33)"
   ]
  },
  {
   "cell_type": "code",
   "execution_count": 35,
   "id": "5df68b4d-86ff-4c1a-835f-115fed547a9b",
   "metadata": {},
   "outputs": [
    {
     "name": "stderr",
     "output_type": "stream",
     "text": [
      "/var/folders/44/wjzjf_412m1cl66j1pj3b0_00000gn/T/ipykernel_1839/3578268577.py:1: SettingWithCopyWarning: \n",
      "A value is trying to be set on a copy of a slice from a DataFrame.\n",
      "Try using .loc[row_indexer,col_indexer] = value instead\n",
      "\n",
      "See the caveats in the documentation: https://pandas.pydata.org/pandas-docs/stable/user_guide/indexing.html#returning-a-view-versus-a-copy\n",
      "  df_top_funcoes_salario['Jornada Semanal'] = pd.to_numeric(\n"
     ]
    }
   ],
   "source": [
    "df_top_funcoes_salario['Jornada Semanal'] = pd.to_numeric(\n",
    "    df_top_funcoes_salario['Jornada Semanal'], errors='coerce'\n",
    ")"
   ]
  },
  {
   "cell_type": "code",
   "execution_count": 37,
   "id": "f70408d9-fad1-41d3-b91b-3e8a81091a1a",
   "metadata": {},
   "outputs": [],
   "source": [
    "# Calcula as medianas por função\n",
    "df_mediana_salario = (\n",
    "    df_top_funcoes_salario\n",
    "    .groupby('Função', as_index=False)['vl_mensal_salario']\n",
    "    .median()\n",
    "    .rename(columns={'vl_mensal_salario': 'mediana_salario'})\n",
    ")\n",
    "\n",
    "df_mediana_jornada = (\n",
    "    df_top_funcoes_salario\n",
    "    .groupby('Função', as_index=False)['Jornada Semanal']\n",
    "    .median()\n",
    "    .rename(columns={'Jornada Semanal': 'mediana_jornada'})\n",
    ")"
   ]
  },
  {
   "cell_type": "code",
   "execution_count": 38,
   "id": "398b6419-01cb-48cf-85dc-2128a6bd4a2e",
   "metadata": {},
   "outputs": [],
   "source": [
    "# Junta e calcula o valor/hora\n",
    "df_valor_hora_top10 = df_mediana_salario.merge(df_mediana_jornada, on='Função')\n",
    "df_valor_hora_top10['valor_hora'] = (\n",
    "    df_valor_hora_top10['mediana_salario'] / (df_valor_hora_top10['mediana_jornada'] * 4.33)\n",
    ")\n",
    "\n",
    "# Ordena para visualização\n",
    "df_valor_hora_top10 = df_valor_hora_top10.sort_values('valor_hora', ascending=False)"
   ]
  },
  {
   "cell_type": "code",
   "execution_count": 41,
   "id": "bca6084b-c553-47ee-921a-d1b1b56a3975",
   "metadata": {},
   "outputs": [
    {
     "data": {
      "image/png": "[encoded data removed]",
      "text/plain": [
       "<Figure size 1200x600 with 1 Axes>"
      ]
     },
     "metadata": {},
     "output_type": "display_data"
    }
   ],
   "source": [
    "plt.figure(figsize=(12, 6))\n",
    "sns.barplot(\n",
    "    data=df_valor_hora_top10,\n",
    "    x='valor_hora',\n",
    "    y='Função',\n",
    "    palette='crest',\n",
    "    hue='Função',\n",
    "    legend=False\n",
    ")\n",
    "plt.xlabel(\"Valor Hora (R$) - baseado em medianas\")\n",
    "plt.ylabel(\"Função\")\n",
    "plt.title(\"Top 10 Funções com Mais Terceirizados (Valor Hora Mediano)\")\n",
    "plt.tight_layout()\n",
    "\n",
    "# Caminho e nome do arquivo\n",
    "#plt.savefig(\"./graficos/mediana_valor_hora_top_10.png\", dpi=300)  # Salva em alta resolução\n",
    "\n",
    "plt.show()"
   ]
  },
  {
   "cell_type": "markdown",
   "id": "6ac14127-55be-4007-a824-f759bdbeb3b8",
   "metadata": {},
   "source": [
    "#### Dos maiores salários mensais"
   ]
  },
  {
   "cell_type": "code",
   "execution_count": 41,
   "id": "0205c453-d9d9-4fcd-9df6-905338d56757",
   "metadata": {},
   "outputs": [],
   "source": [
    "# Converte 'vl_mensal_salario' para float, caso ainda não esteja\n",
    "df_ativos_com_salario['vl_mensal_salario'] = (\n",
    "    df_ativos_com_salario['vl_mensal_salario']\n",
    "    .astype(str)\n",
    "    .str.replace(',', '.', regex=False)\n",
    "    .str.replace(r'[^\\d\\.]', '', regex=True)\n",
    "    .replace('', np.nan)  # trata campos vazios\n",
    "    .astype(float)\n",
    ")"
   ]
  },
  {
   "cell_type": "code",
   "execution_count": 43,
   "id": "8606cd0c-8134-4ac6-b89b-18aad8f46364",
   "metadata": {},
   "outputs": [],
   "source": [
    "# Converte Jornada Semanal para float\n",
    "df_ativos_com_salario['Jornada Semanal'] = (\n",
    "    df_ativos_com_salario['Jornada Semanal']\n",
    "    .astype(str)\n",
    "    .str.replace(',', '.', regex=False)\n",
    "    .str.replace(r'[^\\d\\.]', '', regex=True)\n",
    "    .replace('', np.nan)\n",
    "    .astype(float)\n",
    ")"
   ]
  },
  {
   "cell_type": "code",
   "execution_count": 50,
   "id": "89ab590f-cc13-4232-a1a1-5dd0512f3005",
   "metadata": {},
   "outputs": [],
   "source": [
    "# Calcula mediana salarial por função\n",
    "df_mediana_salario = (\n",
    "    df_ativos_com_salario\n",
    "    .groupby('Função', as_index=False)['vl_mensal_salario']\n",
    "    .median()\n",
    "    .rename(columns={'vl_mensal_salario': 'mediana_salario'})\n",
    ")\n",
    "\n",
    "# Calcula mediana da jornada semanal por função\n",
    "df_mediana_jornada = (\n",
    "    df_ativos_com_salario\n",
    "    .groupby('Função', as_index=False)['Jornada Semanal']\n",
    "    .median()\n",
    "    .rename(columns={'Jornada Semanal': 'mediana_jornada'})\n",
    ")\n",
    "\n",
    "# Junta os dois\n",
    "df_funcoes_valor_hora = df_mediana_salario.merge(df_mediana_jornada, on='Função')"
   ]
  },
  {
   "cell_type": "code",
   "execution_count": 51,
   "id": "a6d32db8-5102-4def-bc41-c8774d269be0",
   "metadata": {},
   "outputs": [],
   "source": [
    "# Calcula valor/hora com base nas medianas\n",
    "df_funcoes_valor_hora['valor_hora'] = (\n",
    "    df_funcoes_valor_hora['mediana_salario'] / (df_funcoes_valor_hora['mediana_jornada'] * 4.33)\n",
    ")\n",
    "\n",
    "# Seleciona as top 10 por valor/hora\n",
    "df_top_valor_hora = df_funcoes_valor_hora.sort_values('valor_hora', ascending=False).head(10)"
   ]
  },
  {
   "cell_type": "code",
   "execution_count": 53,
   "id": "6ae57990-83f6-4ba4-8b62-b802041c1289",
   "metadata": {},
   "outputs": [
    {
     "data": {
      "image/png": "[encoded data removed]",
      "text/plain": [
       "<Figure size 1200x600 with 1 Axes>"
      ]
     },
     "metadata": {},
     "output_type": "display_data"
    }
   ],
   "source": [
    "plt.figure(figsize=(12, 6))\n",
    "sns.barplot(data=df_top_valor_hora, x='valor_hora', y='Função', hue='Função', palette='mako', legend=False)\n",
    "plt.xlabel(\"Valor Hora (R$) - baseado nas medianas\")\n",
    "plt.ylabel(\"Função\")\n",
    "plt.title(\"Top 10 Funções com Maior Valor por Hora (Mediana Salário / Jornada)\")\n",
    "plt.tight_layout()\n",
    "\n",
    "# Caminho e nome do arquivo\n",
    "#plt.savefig(\"./graficos/mediana_valor_hora_top_10.png\", dpi=300)  # Salva em alta resolução\n",
    "\n",
    "plt.show()"
   ]
  },
  {
   "cell_type": "code",
   "execution_count": null,
   "id": "e8eee2ad-c03e-45a6-8bca-35b265c24207",
   "metadata": {},
   "outputs": [],
   "source": []
  }
 ],
 "metadata": {
  "kernelspec": {
   "display_name": "Python 3 (ipykernel)",
   "language": "python",
   "name": "python3"
  },
  "language_info": {
   "codemirror_mode": {
    "name": "ipython",
    "version": 3
   },
   "file_extension": ".py",
   "mimetype": "text/x-python",
   "name": "python",
   "nbconvert_exporter": "python",
   "pygments_lexer": "ipython3",
   "version": "3.9.6"
  }
 },
 "nbformat": 4,
 "nbformat_minor": 5
}
